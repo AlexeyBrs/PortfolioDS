{
  "cells": [
    {
      "cell_type": "markdown",
      "metadata": {
        "toc": true,
        "id": "PnXQVl66GcY5"
      },
      "source": [
        "<h1>Содержание<span class=\"tocSkip\"></span></h1>\n",
        "<div class=\"toc\"><ul class=\"toc-item\"><li><span><a href=\"#Подготовка-данных\" data-toc-modified-id=\"Подготовка-данных-1\"><span class=\"toc-item-num\">1&nbsp;&nbsp;</span>Подготовка данных</a></span></li><li><span><a href=\"#Исследование-задачи\" data-toc-modified-id=\"Исследование-задачи-2\"><span class=\"toc-item-num\">2&nbsp;&nbsp;</span>Исследование задачи</a></span></li><li><span><a href=\"#Борьба-с-дисбалансом\" data-toc-modified-id=\"Борьба-с-дисбалансом-3\"><span class=\"toc-item-num\">3&nbsp;&nbsp;</span>Борьба с дисбалансом</a></span><ul class=\"toc-item\"><li><span><a href=\"#придадим-объектам-редкого-класса-(1)-больший-вес-гиперпараметром-class_weight='balanced'\" data-toc-modified-id=\"придадим-объектам-редкого-класса-(1)-больший-вес-гиперпараметром-class_weight='balanced'-3.1\"><span class=\"toc-item-num\">3.1&nbsp;&nbsp;</span>придадим объектам редкого класса (1) больший вес гиперпараметром class_weight='balanced'</a></span></li><li><span><a href=\"#для-лучшей-балансировки-увеличим-объекты-редкого-класса-для-моделей\" data-toc-modified-id=\"для-лучшей-балансировки-увеличим-объекты-редкого-класса-для-моделей-3.2\"><span class=\"toc-item-num\">3.2&nbsp;&nbsp;</span>для лучшей балансировки увеличим объекты редкого класса для моделей</a></span></li></ul></li><li><span><a href=\"#Тестирование-модели\" data-toc-modified-id=\"Тестирование-модели-4\"><span class=\"toc-item-num\">4&nbsp;&nbsp;</span>Тестирование модели</a></span><ul class=\"toc-item\"><li><span><a href=\"#проведем-тестирование\" data-toc-modified-id=\"проведем-тестирование-4.1\"><span class=\"toc-item-num\">4.1&nbsp;&nbsp;</span>проведем тестирование</a></span></li><li><span><a href=\"#исследуем-метрику-AUC-ROC\" data-toc-modified-id=\"исследуем-метрику-AUC-ROC-4.2\"><span class=\"toc-item-num\">4.2&nbsp;&nbsp;</span>исследуем метрику AUC-ROC</a></span></li></ul></li></ul></div>"
      ]
    },
    {
      "cell_type": "markdown",
      "metadata": {
        "id": "6P005qyqGcY6"
      },
      "source": [
        "# Отток клиентов"
      ]
    },
    {
      "cell_type": "markdown",
      "metadata": {
        "id": "2bY-hekcGcY7"
      },
      "source": [
        "Из «Бета-Банка» стали уходить клиенты. Каждый месяц. Немного, но заметно. Банковские маркетологи посчитали: сохранять текущих клиентов дешевле, чем привлекать новых.\n",
        "\n",
        "Нужно спрогнозировать, уйдёт клиент из банка в ближайшее время или нет. Нам предоставлены исторические данные о поведении клиентов и расторжении договоров с банком.\n",
        "\n",
        "Построим модель с предельно большим значением *F1*-меры.\n",
        "\n",
        "Дополнительно измерим *AUC-ROC*, сравним её значение с *F1*-мерой.\n",
        "\n",
        "Источник данных: [https://www.kaggle.com/barelydedicated/bank-customer-churn-modeling](https://www.kaggle.com/barelydedicated/bank-customer-churn-modeling)"
      ]
    },
    {
      "cell_type": "markdown",
      "metadata": {
        "id": "BijCDBUsGcY8"
      },
      "source": [
        "Описание данных\n",
        "Признаки  \n",
        "RowNumber — индекс строки в данных  \n",
        "CustomerId — уникальный идентификатор клиента  \n",
        "Surname — фамилия  \n",
        "CreditScore — кредитный рейтинг  \n",
        "Geography — страна проживания  \n",
        "Gender — пол  \n",
        "Age — возраст  \n",
        "Tenure — сколько лет человек является клиентом банка  \n",
        "Balance — баланс на счёте  \n",
        "NumOfProducts — количество продуктов банка, используемых клиентом  \n",
        "HasCrCard — наличие кредитной карты  \n",
        "IsActiveMember — активность клиента  \n",
        "EstimatedSalary — предполагаемая зарплата   \n",
        "\n",
        "Целевой признак     \n",
        "Exited — факт ухода клиента   "
      ]
    },
    {
      "cell_type": "markdown",
      "metadata": {
        "id": "tZy2Fe8bGcY8"
      },
      "source": [
        "## Подготовка данных"
      ]
    },
    {
      "cell_type": "code",
      "execution_count": null,
      "metadata": {
        "id": "64B0U8kRGcY-"
      },
      "outputs": [],
      "source": [
        "import pandas as pd\n",
        "import matplotlib.pyplot as plt\n",
        "from sklearn.model_selection import train_test_split\n",
        "from sklearn.preprocessing import StandardScaler\n",
        "from sklearn.tree import DecisionTreeClassifier\n",
        "from sklearn.ensemble import RandomForestClassifier\n",
        "from sklearn.linear_model import LogisticRegression\n",
        "from sklearn.metrics import f1_score\n",
        "from sklearn.utils import shuffle\n",
        "from sklearn.metrics import roc_curve\n",
        "from sklearn.metrics import roc_auc_score\n",
        "\n",
        "#для пропуска предупреждения\n",
        "import warnings\n",
        "warnings.filterwarnings(\"ignore\")"
      ]
    },
    {
      "cell_type": "code",
      "execution_count": null,
      "metadata": {
        "id": "bGOgAruQGcZB"
      },
      "outputs": [],
      "source": [
        "dt_bnk = pd.read_csv('/datasets/Churn.csv')"
      ]
    },
    {
      "cell_type": "code",
      "execution_count": null,
      "metadata": {
        "id": "Pp-WRh-oGcZC",
        "outputId": "1e1f3380-b3ab-4b3f-f672-239c0b81d89d"
      },
      "outputs": [
        {
          "data": {
            "text/html": [
              "<div>\n",
              "<style scoped>\n",
              "    .dataframe tbody tr th:only-of-type {\n",
              "        vertical-align: middle;\n",
              "    }\n",
              "\n",
              "    .dataframe tbody tr th {\n",
              "        vertical-align: top;\n",
              "    }\n",
              "\n",
              "    .dataframe thead th {\n",
              "        text-align: right;\n",
              "    }\n",
              "</style>\n",
              "<table border=\"1\" class=\"dataframe\">\n",
              "  <thead>\n",
              "    <tr style=\"text-align: right;\">\n",
              "      <th></th>\n",
              "      <th>RowNumber</th>\n",
              "      <th>CustomerId</th>\n",
              "      <th>Surname</th>\n",
              "      <th>CreditScore</th>\n",
              "      <th>Geography</th>\n",
              "      <th>Gender</th>\n",
              "      <th>Age</th>\n",
              "      <th>Tenure</th>\n",
              "      <th>Balance</th>\n",
              "      <th>NumOfProducts</th>\n",
              "      <th>HasCrCard</th>\n",
              "      <th>IsActiveMember</th>\n",
              "      <th>EstimatedSalary</th>\n",
              "      <th>Exited</th>\n",
              "    </tr>\n",
              "  </thead>\n",
              "  <tbody>\n",
              "    <tr>\n",
              "      <th>0</th>\n",
              "      <td>1</td>\n",
              "      <td>15634602</td>\n",
              "      <td>Hargrave</td>\n",
              "      <td>619</td>\n",
              "      <td>France</td>\n",
              "      <td>Female</td>\n",
              "      <td>42</td>\n",
              "      <td>2.0</td>\n",
              "      <td>0.00</td>\n",
              "      <td>1</td>\n",
              "      <td>1</td>\n",
              "      <td>1</td>\n",
              "      <td>101348.88</td>\n",
              "      <td>1</td>\n",
              "    </tr>\n",
              "    <tr>\n",
              "      <th>1</th>\n",
              "      <td>2</td>\n",
              "      <td>15647311</td>\n",
              "      <td>Hill</td>\n",
              "      <td>608</td>\n",
              "      <td>Spain</td>\n",
              "      <td>Female</td>\n",
              "      <td>41</td>\n",
              "      <td>1.0</td>\n",
              "      <td>83807.86</td>\n",
              "      <td>1</td>\n",
              "      <td>0</td>\n",
              "      <td>1</td>\n",
              "      <td>112542.58</td>\n",
              "      <td>0</td>\n",
              "    </tr>\n",
              "    <tr>\n",
              "      <th>2</th>\n",
              "      <td>3</td>\n",
              "      <td>15619304</td>\n",
              "      <td>Onio</td>\n",
              "      <td>502</td>\n",
              "      <td>France</td>\n",
              "      <td>Female</td>\n",
              "      <td>42</td>\n",
              "      <td>8.0</td>\n",
              "      <td>159660.80</td>\n",
              "      <td>3</td>\n",
              "      <td>1</td>\n",
              "      <td>0</td>\n",
              "      <td>113931.57</td>\n",
              "      <td>1</td>\n",
              "    </tr>\n",
              "    <tr>\n",
              "      <th>3</th>\n",
              "      <td>4</td>\n",
              "      <td>15701354</td>\n",
              "      <td>Boni</td>\n",
              "      <td>699</td>\n",
              "      <td>France</td>\n",
              "      <td>Female</td>\n",
              "      <td>39</td>\n",
              "      <td>1.0</td>\n",
              "      <td>0.00</td>\n",
              "      <td>2</td>\n",
              "      <td>0</td>\n",
              "      <td>0</td>\n",
              "      <td>93826.63</td>\n",
              "      <td>0</td>\n",
              "    </tr>\n",
              "    <tr>\n",
              "      <th>4</th>\n",
              "      <td>5</td>\n",
              "      <td>15737888</td>\n",
              "      <td>Mitchell</td>\n",
              "      <td>850</td>\n",
              "      <td>Spain</td>\n",
              "      <td>Female</td>\n",
              "      <td>43</td>\n",
              "      <td>2.0</td>\n",
              "      <td>125510.82</td>\n",
              "      <td>1</td>\n",
              "      <td>1</td>\n",
              "      <td>1</td>\n",
              "      <td>79084.10</td>\n",
              "      <td>0</td>\n",
              "    </tr>\n",
              "    <tr>\n",
              "      <th>5</th>\n",
              "      <td>6</td>\n",
              "      <td>15574012</td>\n",
              "      <td>Chu</td>\n",
              "      <td>645</td>\n",
              "      <td>Spain</td>\n",
              "      <td>Male</td>\n",
              "      <td>44</td>\n",
              "      <td>8.0</td>\n",
              "      <td>113755.78</td>\n",
              "      <td>2</td>\n",
              "      <td>1</td>\n",
              "      <td>0</td>\n",
              "      <td>149756.71</td>\n",
              "      <td>1</td>\n",
              "    </tr>\n",
              "    <tr>\n",
              "      <th>6</th>\n",
              "      <td>7</td>\n",
              "      <td>15592531</td>\n",
              "      <td>Bartlett</td>\n",
              "      <td>822</td>\n",
              "      <td>France</td>\n",
              "      <td>Male</td>\n",
              "      <td>50</td>\n",
              "      <td>7.0</td>\n",
              "      <td>0.00</td>\n",
              "      <td>2</td>\n",
              "      <td>1</td>\n",
              "      <td>1</td>\n",
              "      <td>10062.80</td>\n",
              "      <td>0</td>\n",
              "    </tr>\n",
              "    <tr>\n",
              "      <th>7</th>\n",
              "      <td>8</td>\n",
              "      <td>15656148</td>\n",
              "      <td>Obinna</td>\n",
              "      <td>376</td>\n",
              "      <td>Germany</td>\n",
              "      <td>Female</td>\n",
              "      <td>29</td>\n",
              "      <td>4.0</td>\n",
              "      <td>115046.74</td>\n",
              "      <td>4</td>\n",
              "      <td>1</td>\n",
              "      <td>0</td>\n",
              "      <td>119346.88</td>\n",
              "      <td>1</td>\n",
              "    </tr>\n",
              "    <tr>\n",
              "      <th>8</th>\n",
              "      <td>9</td>\n",
              "      <td>15792365</td>\n",
              "      <td>He</td>\n",
              "      <td>501</td>\n",
              "      <td>France</td>\n",
              "      <td>Male</td>\n",
              "      <td>44</td>\n",
              "      <td>4.0</td>\n",
              "      <td>142051.07</td>\n",
              "      <td>2</td>\n",
              "      <td>0</td>\n",
              "      <td>1</td>\n",
              "      <td>74940.50</td>\n",
              "      <td>0</td>\n",
              "    </tr>\n",
              "    <tr>\n",
              "      <th>9</th>\n",
              "      <td>10</td>\n",
              "      <td>15592389</td>\n",
              "      <td>H?</td>\n",
              "      <td>684</td>\n",
              "      <td>France</td>\n",
              "      <td>Male</td>\n",
              "      <td>27</td>\n",
              "      <td>2.0</td>\n",
              "      <td>134603.88</td>\n",
              "      <td>1</td>\n",
              "      <td>1</td>\n",
              "      <td>1</td>\n",
              "      <td>71725.73</td>\n",
              "      <td>0</td>\n",
              "    </tr>\n",
              "    <tr>\n",
              "      <th>10</th>\n",
              "      <td>11</td>\n",
              "      <td>15767821</td>\n",
              "      <td>Bearce</td>\n",
              "      <td>528</td>\n",
              "      <td>France</td>\n",
              "      <td>Male</td>\n",
              "      <td>31</td>\n",
              "      <td>6.0</td>\n",
              "      <td>102016.72</td>\n",
              "      <td>2</td>\n",
              "      <td>0</td>\n",
              "      <td>0</td>\n",
              "      <td>80181.12</td>\n",
              "      <td>0</td>\n",
              "    </tr>\n",
              "    <tr>\n",
              "      <th>11</th>\n",
              "      <td>12</td>\n",
              "      <td>15737173</td>\n",
              "      <td>Andrews</td>\n",
              "      <td>497</td>\n",
              "      <td>Spain</td>\n",
              "      <td>Male</td>\n",
              "      <td>24</td>\n",
              "      <td>3.0</td>\n",
              "      <td>0.00</td>\n",
              "      <td>2</td>\n",
              "      <td>1</td>\n",
              "      <td>0</td>\n",
              "      <td>76390.01</td>\n",
              "      <td>0</td>\n",
              "    </tr>\n",
              "    <tr>\n",
              "      <th>12</th>\n",
              "      <td>13</td>\n",
              "      <td>15632264</td>\n",
              "      <td>Kay</td>\n",
              "      <td>476</td>\n",
              "      <td>France</td>\n",
              "      <td>Female</td>\n",
              "      <td>34</td>\n",
              "      <td>10.0</td>\n",
              "      <td>0.00</td>\n",
              "      <td>2</td>\n",
              "      <td>1</td>\n",
              "      <td>0</td>\n",
              "      <td>26260.98</td>\n",
              "      <td>0</td>\n",
              "    </tr>\n",
              "    <tr>\n",
              "      <th>13</th>\n",
              "      <td>14</td>\n",
              "      <td>15691483</td>\n",
              "      <td>Chin</td>\n",
              "      <td>549</td>\n",
              "      <td>France</td>\n",
              "      <td>Female</td>\n",
              "      <td>25</td>\n",
              "      <td>5.0</td>\n",
              "      <td>0.00</td>\n",
              "      <td>2</td>\n",
              "      <td>0</td>\n",
              "      <td>0</td>\n",
              "      <td>190857.79</td>\n",
              "      <td>0</td>\n",
              "    </tr>\n",
              "    <tr>\n",
              "      <th>14</th>\n",
              "      <td>15</td>\n",
              "      <td>15600882</td>\n",
              "      <td>Scott</td>\n",
              "      <td>635</td>\n",
              "      <td>Spain</td>\n",
              "      <td>Female</td>\n",
              "      <td>35</td>\n",
              "      <td>7.0</td>\n",
              "      <td>0.00</td>\n",
              "      <td>2</td>\n",
              "      <td>1</td>\n",
              "      <td>1</td>\n",
              "      <td>65951.65</td>\n",
              "      <td>0</td>\n",
              "    </tr>\n",
              "    <tr>\n",
              "      <th>15</th>\n",
              "      <td>16</td>\n",
              "      <td>15643966</td>\n",
              "      <td>Goforth</td>\n",
              "      <td>616</td>\n",
              "      <td>Germany</td>\n",
              "      <td>Male</td>\n",
              "      <td>45</td>\n",
              "      <td>3.0</td>\n",
              "      <td>143129.41</td>\n",
              "      <td>2</td>\n",
              "      <td>0</td>\n",
              "      <td>1</td>\n",
              "      <td>64327.26</td>\n",
              "      <td>0</td>\n",
              "    </tr>\n",
              "    <tr>\n",
              "      <th>16</th>\n",
              "      <td>17</td>\n",
              "      <td>15737452</td>\n",
              "      <td>Romeo</td>\n",
              "      <td>653</td>\n",
              "      <td>Germany</td>\n",
              "      <td>Male</td>\n",
              "      <td>58</td>\n",
              "      <td>1.0</td>\n",
              "      <td>132602.88</td>\n",
              "      <td>1</td>\n",
              "      <td>1</td>\n",
              "      <td>0</td>\n",
              "      <td>5097.67</td>\n",
              "      <td>1</td>\n",
              "    </tr>\n",
              "    <tr>\n",
              "      <th>17</th>\n",
              "      <td>18</td>\n",
              "      <td>15788218</td>\n",
              "      <td>Henderson</td>\n",
              "      <td>549</td>\n",
              "      <td>Spain</td>\n",
              "      <td>Female</td>\n",
              "      <td>24</td>\n",
              "      <td>9.0</td>\n",
              "      <td>0.00</td>\n",
              "      <td>2</td>\n",
              "      <td>1</td>\n",
              "      <td>1</td>\n",
              "      <td>14406.41</td>\n",
              "      <td>0</td>\n",
              "    </tr>\n",
              "    <tr>\n",
              "      <th>18</th>\n",
              "      <td>19</td>\n",
              "      <td>15661507</td>\n",
              "      <td>Muldrow</td>\n",
              "      <td>587</td>\n",
              "      <td>Spain</td>\n",
              "      <td>Male</td>\n",
              "      <td>45</td>\n",
              "      <td>6.0</td>\n",
              "      <td>0.00</td>\n",
              "      <td>1</td>\n",
              "      <td>0</td>\n",
              "      <td>0</td>\n",
              "      <td>158684.81</td>\n",
              "      <td>0</td>\n",
              "    </tr>\n",
              "    <tr>\n",
              "      <th>19</th>\n",
              "      <td>20</td>\n",
              "      <td>15568982</td>\n",
              "      <td>Hao</td>\n",
              "      <td>726</td>\n",
              "      <td>France</td>\n",
              "      <td>Female</td>\n",
              "      <td>24</td>\n",
              "      <td>6.0</td>\n",
              "      <td>0.00</td>\n",
              "      <td>2</td>\n",
              "      <td>1</td>\n",
              "      <td>1</td>\n",
              "      <td>54724.03</td>\n",
              "      <td>0</td>\n",
              "    </tr>\n",
              "  </tbody>\n",
              "</table>\n",
              "</div>"
            ],
            "text/plain": [
              "    RowNumber  CustomerId    Surname  CreditScore Geography  Gender  Age  \\\n",
              "0           1    15634602   Hargrave          619    France  Female   42   \n",
              "1           2    15647311       Hill          608     Spain  Female   41   \n",
              "2           3    15619304       Onio          502    France  Female   42   \n",
              "3           4    15701354       Boni          699    France  Female   39   \n",
              "4           5    15737888   Mitchell          850     Spain  Female   43   \n",
              "5           6    15574012        Chu          645     Spain    Male   44   \n",
              "6           7    15592531   Bartlett          822    France    Male   50   \n",
              "7           8    15656148     Obinna          376   Germany  Female   29   \n",
              "8           9    15792365         He          501    France    Male   44   \n",
              "9          10    15592389         H?          684    France    Male   27   \n",
              "10         11    15767821     Bearce          528    France    Male   31   \n",
              "11         12    15737173    Andrews          497     Spain    Male   24   \n",
              "12         13    15632264        Kay          476    France  Female   34   \n",
              "13         14    15691483       Chin          549    France  Female   25   \n",
              "14         15    15600882      Scott          635     Spain  Female   35   \n",
              "15         16    15643966    Goforth          616   Germany    Male   45   \n",
              "16         17    15737452      Romeo          653   Germany    Male   58   \n",
              "17         18    15788218  Henderson          549     Spain  Female   24   \n",
              "18         19    15661507    Muldrow          587     Spain    Male   45   \n",
              "19         20    15568982        Hao          726    France  Female   24   \n",
              "\n",
              "    Tenure    Balance  NumOfProducts  HasCrCard  IsActiveMember  \\\n",
              "0      2.0       0.00              1          1               1   \n",
              "1      1.0   83807.86              1          0               1   \n",
              "2      8.0  159660.80              3          1               0   \n",
              "3      1.0       0.00              2          0               0   \n",
              "4      2.0  125510.82              1          1               1   \n",
              "5      8.0  113755.78              2          1               0   \n",
              "6      7.0       0.00              2          1               1   \n",
              "7      4.0  115046.74              4          1               0   \n",
              "8      4.0  142051.07              2          0               1   \n",
              "9      2.0  134603.88              1          1               1   \n",
              "10     6.0  102016.72              2          0               0   \n",
              "11     3.0       0.00              2          1               0   \n",
              "12    10.0       0.00              2          1               0   \n",
              "13     5.0       0.00              2          0               0   \n",
              "14     7.0       0.00              2          1               1   \n",
              "15     3.0  143129.41              2          0               1   \n",
              "16     1.0  132602.88              1          1               0   \n",
              "17     9.0       0.00              2          1               1   \n",
              "18     6.0       0.00              1          0               0   \n",
              "19     6.0       0.00              2          1               1   \n",
              "\n",
              "    EstimatedSalary  Exited  \n",
              "0         101348.88       1  \n",
              "1         112542.58       0  \n",
              "2         113931.57       1  \n",
              "3          93826.63       0  \n",
              "4          79084.10       0  \n",
              "5         149756.71       1  \n",
              "6          10062.80       0  \n",
              "7         119346.88       1  \n",
              "8          74940.50       0  \n",
              "9          71725.73       0  \n",
              "10         80181.12       0  \n",
              "11         76390.01       0  \n",
              "12         26260.98       0  \n",
              "13        190857.79       0  \n",
              "14         65951.65       0  \n",
              "15         64327.26       0  \n",
              "16          5097.67       1  \n",
              "17         14406.41       0  \n",
              "18        158684.81       0  \n",
              "19         54724.03       0  "
            ]
          },
          "execution_count": 3,
          "metadata": {},
          "output_type": "execute_result"
        }
      ],
      "source": [
        "dt_bnk.head(20)"
      ]
    },
    {
      "cell_type": "code",
      "execution_count": null,
      "metadata": {
        "id": "aH-F9NRaGcZF",
        "outputId": "1c39cd58-077a-4cfe-a5d1-e296e75a081d"
      },
      "outputs": [
        {
          "name": "stdout",
          "output_type": "stream",
          "text": [
            "<class 'pandas.core.frame.DataFrame'>\n",
            "RangeIndex: 10000 entries, 0 to 9999\n",
            "Data columns (total 14 columns):\n",
            " #   Column           Non-Null Count  Dtype  \n",
            "---  ------           --------------  -----  \n",
            " 0   RowNumber        10000 non-null  int64  \n",
            " 1   CustomerId       10000 non-null  int64  \n",
            " 2   Surname          10000 non-null  object \n",
            " 3   CreditScore      10000 non-null  int64  \n",
            " 4   Geography        10000 non-null  object \n",
            " 5   Gender           10000 non-null  object \n",
            " 6   Age              10000 non-null  int64  \n",
            " 7   Tenure           9091 non-null   float64\n",
            " 8   Balance          10000 non-null  float64\n",
            " 9   NumOfProducts    10000 non-null  int64  \n",
            " 10  HasCrCard        10000 non-null  int64  \n",
            " 11  IsActiveMember   10000 non-null  int64  \n",
            " 12  EstimatedSalary  10000 non-null  float64\n",
            " 13  Exited           10000 non-null  int64  \n",
            "dtypes: float64(3), int64(8), object(3)\n",
            "memory usage: 1.1+ MB\n"
          ]
        }
      ],
      "source": [
        "dt_bnk.info()"
      ]
    },
    {
      "cell_type": "code",
      "execution_count": null,
      "metadata": {
        "id": "4cd6agxvGcZG"
      },
      "outputs": [],
      "source": [
        "# в стобце Tenure небольшое кол-во пропусков заполним минимальным значением\n",
        "dt_bnk['Tenure'] = dt_bnk['Tenure'].fillna(0)"
      ]
    },
    {
      "cell_type": "code",
      "execution_count": null,
      "metadata": {
        "id": "JUFf9YeyGcZH"
      },
      "outputs": [],
      "source": [
        "#удалю столбцы,информация в которых не понадобиться для обучения модели\n",
        "dt_bnk = dt_bnk.drop(['RowNumber','CustomerId', 'Surname'], axis=1)"
      ]
    },
    {
      "cell_type": "code",
      "execution_count": null,
      "metadata": {
        "id": "qANmZAs4GcZI",
        "outputId": "f140d0ba-d103-4b76-9591-d25265745ffe"
      },
      "outputs": [
        {
          "name": "stdout",
          "output_type": "stream",
          "text": [
            "<class 'pandas.core.frame.DataFrame'>\n",
            "RangeIndex: 10000 entries, 0 to 9999\n",
            "Data columns (total 11 columns):\n",
            " #   Column           Non-Null Count  Dtype  \n",
            "---  ------           --------------  -----  \n",
            " 0   CreditScore      10000 non-null  int64  \n",
            " 1   Geography        10000 non-null  object \n",
            " 2   Gender           10000 non-null  object \n",
            " 3   Age              10000 non-null  int64  \n",
            " 4   Tenure           10000 non-null  float64\n",
            " 5   Balance          10000 non-null  float64\n",
            " 6   NumOfProducts    10000 non-null  int64  \n",
            " 7   HasCrCard        10000 non-null  int64  \n",
            " 8   IsActiveMember   10000 non-null  int64  \n",
            " 9   EstimatedSalary  10000 non-null  float64\n",
            " 10  Exited           10000 non-null  int64  \n",
            "dtypes: float64(3), int64(6), object(2)\n",
            "memory usage: 859.5+ KB\n"
          ]
        }
      ],
      "source": [
        "dt_bnk.info()"
      ]
    },
    {
      "cell_type": "code",
      "execution_count": null,
      "metadata": {
        "id": "dd0LvhDsGcZJ",
        "outputId": "179925ed-115a-46dd-991a-aa1a1027b480"
      },
      "outputs": [
        {
          "data": {
            "text/plain": [
              "0"
            ]
          },
          "execution_count": 8,
          "metadata": {},
          "output_type": "execute_result"
        }
      ],
      "source": [
        "#смотрим дубликаты\n",
        "dt_bnk.duplicated().sum()"
      ]
    },
    {
      "cell_type": "code",
      "execution_count": null,
      "metadata": {
        "id": "n2G8NZ8aGcZK",
        "outputId": "704c6e43-6574-4bd2-9ef4-3196e487609b"
      },
      "outputs": [
        {
          "data": {
            "text/plain": [
              "array(['France', 'Spain', 'Germany'], dtype=object)"
            ]
          },
          "execution_count": 9,
          "metadata": {},
          "output_type": "execute_result"
        }
      ],
      "source": [
        "#посмотрим значения столбца Geography\n",
        "dt_bnk['Geography'].unique()"
      ]
    },
    {
      "cell_type": "code",
      "execution_count": null,
      "metadata": {
        "id": "InYMH4f0GcZK",
        "outputId": "6a5f25de-4e46-4c3b-aff1-ea61fe3a1b19"
      },
      "outputs": [
        {
          "data": {
            "text/plain": [
              "array(['Female', 'Male'], dtype=object)"
            ]
          },
          "execution_count": 10,
          "metadata": {},
          "output_type": "execute_result"
        }
      ],
      "source": [
        "#а также столбца Gender\n",
        "dt_bnk['Gender'].unique()"
      ]
    },
    {
      "cell_type": "code",
      "execution_count": null,
      "metadata": {
        "id": "ySwI-LBRGcZL"
      },
      "outputs": [],
      "source": [
        "#вызовем метод OHE, чтоб убрать категориальные признаки и избежать дамми ловушку\n",
        "#dt_bnk = pd.get_dummies(dt_bnk, drop_first=True)"
      ]
    },
    {
      "cell_type": "code",
      "execution_count": null,
      "metadata": {
        "id": "z_ASuiGnGcZN",
        "outputId": "0001549c-fad0-4e2d-c4b9-78cc30ee8587"
      },
      "outputs": [
        {
          "data": {
            "text/html": [
              "<div>\n",
              "<style scoped>\n",
              "    .dataframe tbody tr th:only-of-type {\n",
              "        vertical-align: middle;\n",
              "    }\n",
              "\n",
              "    .dataframe tbody tr th {\n",
              "        vertical-align: top;\n",
              "    }\n",
              "\n",
              "    .dataframe thead th {\n",
              "        text-align: right;\n",
              "    }\n",
              "</style>\n",
              "<table border=\"1\" class=\"dataframe\">\n",
              "  <thead>\n",
              "    <tr style=\"text-align: right;\">\n",
              "      <th></th>\n",
              "      <th>CreditScore</th>\n",
              "      <th>Geography</th>\n",
              "      <th>Gender</th>\n",
              "      <th>Age</th>\n",
              "      <th>Tenure</th>\n",
              "      <th>Balance</th>\n",
              "      <th>NumOfProducts</th>\n",
              "      <th>HasCrCard</th>\n",
              "      <th>IsActiveMember</th>\n",
              "      <th>EstimatedSalary</th>\n",
              "      <th>Exited</th>\n",
              "    </tr>\n",
              "  </thead>\n",
              "  <tbody>\n",
              "    <tr>\n",
              "      <th>0</th>\n",
              "      <td>619</td>\n",
              "      <td>France</td>\n",
              "      <td>Female</td>\n",
              "      <td>42</td>\n",
              "      <td>2.0</td>\n",
              "      <td>0.00</td>\n",
              "      <td>1</td>\n",
              "      <td>1</td>\n",
              "      <td>1</td>\n",
              "      <td>101348.88</td>\n",
              "      <td>1</td>\n",
              "    </tr>\n",
              "    <tr>\n",
              "      <th>1</th>\n",
              "      <td>608</td>\n",
              "      <td>Spain</td>\n",
              "      <td>Female</td>\n",
              "      <td>41</td>\n",
              "      <td>1.0</td>\n",
              "      <td>83807.86</td>\n",
              "      <td>1</td>\n",
              "      <td>0</td>\n",
              "      <td>1</td>\n",
              "      <td>112542.58</td>\n",
              "      <td>0</td>\n",
              "    </tr>\n",
              "    <tr>\n",
              "      <th>2</th>\n",
              "      <td>502</td>\n",
              "      <td>France</td>\n",
              "      <td>Female</td>\n",
              "      <td>42</td>\n",
              "      <td>8.0</td>\n",
              "      <td>159660.80</td>\n",
              "      <td>3</td>\n",
              "      <td>1</td>\n",
              "      <td>0</td>\n",
              "      <td>113931.57</td>\n",
              "      <td>1</td>\n",
              "    </tr>\n",
              "    <tr>\n",
              "      <th>3</th>\n",
              "      <td>699</td>\n",
              "      <td>France</td>\n",
              "      <td>Female</td>\n",
              "      <td>39</td>\n",
              "      <td>1.0</td>\n",
              "      <td>0.00</td>\n",
              "      <td>2</td>\n",
              "      <td>0</td>\n",
              "      <td>0</td>\n",
              "      <td>93826.63</td>\n",
              "      <td>0</td>\n",
              "    </tr>\n",
              "    <tr>\n",
              "      <th>4</th>\n",
              "      <td>850</td>\n",
              "      <td>Spain</td>\n",
              "      <td>Female</td>\n",
              "      <td>43</td>\n",
              "      <td>2.0</td>\n",
              "      <td>125510.82</td>\n",
              "      <td>1</td>\n",
              "      <td>1</td>\n",
              "      <td>1</td>\n",
              "      <td>79084.10</td>\n",
              "      <td>0</td>\n",
              "    </tr>\n",
              "  </tbody>\n",
              "</table>\n",
              "</div>"
            ],
            "text/plain": [
              "   CreditScore Geography  Gender  Age  Tenure    Balance  NumOfProducts  \\\n",
              "0          619    France  Female   42     2.0       0.00              1   \n",
              "1          608     Spain  Female   41     1.0   83807.86              1   \n",
              "2          502    France  Female   42     8.0  159660.80              3   \n",
              "3          699    France  Female   39     1.0       0.00              2   \n",
              "4          850     Spain  Female   43     2.0  125510.82              1   \n",
              "\n",
              "   HasCrCard  IsActiveMember  EstimatedSalary  Exited  \n",
              "0          1               1        101348.88       1  \n",
              "1          0               1        112542.58       0  \n",
              "2          1               0        113931.57       1  \n",
              "3          0               0         93826.63       0  \n",
              "4          1               1         79084.10       0  "
            ]
          },
          "execution_count": 12,
          "metadata": {},
          "output_type": "execute_result"
        }
      ],
      "source": [
        "dt_bnk.head()"
      ]
    },
    {
      "cell_type": "markdown",
      "metadata": {
        "id": "kjAADndzGcZO"
      },
      "source": [
        "Вывод. Мы рассмотрели и обработали представленные данные.Заполнили пропуски и убрали ненужные столбцы-стало  11 столбцов и 10тыс. строк.После мы перевели строковые значения в числовые, избавившись от категориальных признаков- столбец Geography содержал 3 класса, Gender_Male 2 класса — в результате мы получили только 2 и 1 столбцов соответственно.Можно приступить к формированию выборок для работы с моделями."
      ]
    },
    {
      "cell_type": "markdown",
      "metadata": {
        "id": "jgKABUv4GcZO"
      },
      "source": [
        "## Исследование задачи"
      ]
    },
    {
      "cell_type": "code",
      "execution_count": null,
      "metadata": {
        "id": "XH4Z9UUTGcZV",
        "outputId": "bb6fa2c5-5f85-420a-bae9-b0ca453d280a"
      },
      "outputs": [
        {
          "data": {
            "text/plain": [
              "0    0.7963\n",
              "1    0.2037\n",
              "Name: Exited, dtype: float64"
            ]
          },
          "execution_count": 13,
          "metadata": {},
          "output_type": "execute_result"
        }
      ],
      "source": [
        "#по условию посмотрим имеется ли дисбаланс в целевом признаке\n",
        "ex_0_1 = dt_bnk['Exited'].value_counts(normalize=True)\n",
        "ex_0_1"
      ]
    },
    {
      "cell_type": "markdown",
      "metadata": {
        "id": "r5GnnqQOGcZW"
      },
      "source": [
        "мы наблюдаме дисбаланс примерно 80 (это 0) и 20 проц.(это 1) пока проведем обучение без учета дисбаланса, в дальнейшем в другом разделе\n",
        "применим методы для учета дисбаланса в построении моделей"
      ]
    },
    {
      "cell_type": "code",
      "execution_count": null,
      "metadata": {
        "id": "PMU_vzVRGcZX"
      },
      "outputs": [],
      "source": [
        "#создадим выборки - фичи(признаки) и целевой признак\n",
        "features = dt_bnk.drop('Exited', axis=1)\n",
        "target = dt_bnk['Exited']"
      ]
    },
    {
      "cell_type": "code",
      "execution_count": null,
      "metadata": {
        "id": "S9L1NgvlGcZX"
      },
      "outputs": [],
      "source": [
        "#разобьем эти выборки на тренировочные и валидационные\n",
        "train_features,ttv_features,train_target,ttv_target=train_test_split(features,target,test_size=0.4,random_state=1234)"
      ]
    },
    {
      "cell_type": "code",
      "execution_count": null,
      "metadata": {
        "id": "eJW6CWdoGcZX"
      },
      "outputs": [],
      "source": [
        "test_features,valid_features,test_target,valid_target=train_test_split(ttv_features,ttv_target,test_size=0.5,random_state=1234)"
      ]
    },
    {
      "cell_type": "code",
      "execution_count": null,
      "metadata": {
        "id": "B1L2dahBGcZY"
      },
      "outputs": [],
      "source": [
        "#вызовем метод OHE, чтоб убрать категориальные признаки и избежать дамми ловушку\n",
        "train_features = pd.get_dummies(train_features, drop_first=True)\n",
        "valid_features = pd.get_dummies(valid_features, drop_first=True)\n",
        "test_features = pd.get_dummies(test_features, drop_first=True)"
      ]
    },
    {
      "cell_type": "code",
      "execution_count": null,
      "metadata": {
        "id": "cnUq2aYrGcZZ"
      },
      "outputs": [],
      "source": [
        "#приведем численные признаки к одинаковой шкале\n",
        "numeric=['CreditScore','Age','Tenure','Balance','NumOfProducts','HasCrCard','IsActiveMember','EstimatedSalary']\n",
        "scaler=StandardScaler()\n",
        "scaler.fit(train_features[numeric])\n",
        "train_features[numeric]=scaler.transform(train_features[numeric])\n",
        "valid_features[numeric]=scaler.transform(valid_features[numeric])\n",
        "test_features[numeric]=scaler.transform(test_features[numeric])"
      ]
    },
    {
      "cell_type": "code",
      "execution_count": null,
      "metadata": {
        "id": "KNYxuIi6GcZa",
        "outputId": "5d8cae7d-c5d0-49ce-a55b-1da1bd74d643"
      },
      "outputs": [
        {
          "data": {
            "text/html": [
              "<div>\n",
              "<style scoped>\n",
              "    .dataframe tbody tr th:only-of-type {\n",
              "        vertical-align: middle;\n",
              "    }\n",
              "\n",
              "    .dataframe tbody tr th {\n",
              "        vertical-align: top;\n",
              "    }\n",
              "\n",
              "    .dataframe thead th {\n",
              "        text-align: right;\n",
              "    }\n",
              "</style>\n",
              "<table border=\"1\" class=\"dataframe\">\n",
              "  <thead>\n",
              "    <tr style=\"text-align: right;\">\n",
              "      <th></th>\n",
              "      <th>CreditScore</th>\n",
              "      <th>Age</th>\n",
              "      <th>Tenure</th>\n",
              "      <th>Balance</th>\n",
              "      <th>NumOfProducts</th>\n",
              "      <th>HasCrCard</th>\n",
              "      <th>IsActiveMember</th>\n",
              "      <th>EstimatedSalary</th>\n",
              "      <th>Geography_Germany</th>\n",
              "      <th>Geography_Spain</th>\n",
              "      <th>Gender_Male</th>\n",
              "    </tr>\n",
              "  </thead>\n",
              "  <tbody>\n",
              "    <tr>\n",
              "      <th>1697</th>\n",
              "      <td>0.329707</td>\n",
              "      <td>-0.863705</td>\n",
              "      <td>1.109168</td>\n",
              "      <td>0.547963</td>\n",
              "      <td>0.82058</td>\n",
              "      <td>-1.545288</td>\n",
              "      <td>-1.014776</td>\n",
              "      <td>-1.305510</td>\n",
              "      <td>0</td>\n",
              "      <td>0</td>\n",
              "      <td>1</td>\n",
              "    </tr>\n",
              "    <tr>\n",
              "      <th>6830</th>\n",
              "      <td>1.172352</td>\n",
              "      <td>0.384655</td>\n",
              "      <td>1.429613</td>\n",
              "      <td>1.302837</td>\n",
              "      <td>0.82058</td>\n",
              "      <td>-1.545288</td>\n",
              "      <td>-1.014776</td>\n",
              "      <td>0.638615</td>\n",
              "      <td>0</td>\n",
              "      <td>0</td>\n",
              "      <td>1</td>\n",
              "    </tr>\n",
              "    <tr>\n",
              "      <th>5933</th>\n",
              "      <td>-0.841775</td>\n",
              "      <td>0.192600</td>\n",
              "      <td>-0.172613</td>\n",
              "      <td>0.698742</td>\n",
              "      <td>-0.91243</td>\n",
              "      <td>0.647128</td>\n",
              "      <td>-1.014776</td>\n",
              "      <td>1.100816</td>\n",
              "      <td>0</td>\n",
              "      <td>0</td>\n",
              "      <td>1</td>\n",
              "    </tr>\n",
              "    <tr>\n",
              "      <th>6206</th>\n",
              "      <td>1.552570</td>\n",
              "      <td>1.152877</td>\n",
              "      <td>0.788723</td>\n",
              "      <td>-1.227139</td>\n",
              "      <td>-0.91243</td>\n",
              "      <td>-1.545288</td>\n",
              "      <td>0.985439</td>\n",
              "      <td>-1.028388</td>\n",
              "      <td>0</td>\n",
              "      <td>1</td>\n",
              "      <td>1</td>\n",
              "    </tr>\n",
              "    <tr>\n",
              "      <th>7501</th>\n",
              "      <td>0.309155</td>\n",
              "      <td>1.825071</td>\n",
              "      <td>1.109168</td>\n",
              "      <td>0.265181</td>\n",
              "      <td>-0.91243</td>\n",
              "      <td>0.647128</td>\n",
              "      <td>0.985439</td>\n",
              "      <td>0.693606</td>\n",
              "      <td>0</td>\n",
              "      <td>0</td>\n",
              "      <td>0</td>\n",
              "    </tr>\n",
              "  </tbody>\n",
              "</table>\n",
              "</div>"
            ],
            "text/plain": [
              "      CreditScore       Age    Tenure   Balance  NumOfProducts  HasCrCard  \\\n",
              "1697     0.329707 -0.863705  1.109168  0.547963        0.82058  -1.545288   \n",
              "6830     1.172352  0.384655  1.429613  1.302837        0.82058  -1.545288   \n",
              "5933    -0.841775  0.192600 -0.172613  0.698742       -0.91243   0.647128   \n",
              "6206     1.552570  1.152877  0.788723 -1.227139       -0.91243  -1.545288   \n",
              "7501     0.309155  1.825071  1.109168  0.265181       -0.91243   0.647128   \n",
              "\n",
              "      IsActiveMember  EstimatedSalary  Geography_Germany  Geography_Spain  \\\n",
              "1697       -1.014776        -1.305510                  0                0   \n",
              "6830       -1.014776         0.638615                  0                0   \n",
              "5933       -1.014776         1.100816                  0                0   \n",
              "6206        0.985439        -1.028388                  0                1   \n",
              "7501        0.985439         0.693606                  0                0   \n",
              "\n",
              "      Gender_Male  \n",
              "1697            1  \n",
              "6830            1  \n",
              "5933            1  \n",
              "6206            1  \n",
              "7501            0  "
            ]
          },
          "execution_count": 19,
          "metadata": {},
          "output_type": "execute_result"
        }
      ],
      "source": [
        "valid_features.head()"
      ]
    },
    {
      "cell_type": "code",
      "execution_count": null,
      "metadata": {
        "id": "0ensk3AdGcZa",
        "outputId": "c3fd737a-a04d-4fd3-de8a-81bbecdb8082"
      },
      "outputs": [
        {
          "data": {
            "text/html": [
              "<div>\n",
              "<style scoped>\n",
              "    .dataframe tbody tr th:only-of-type {\n",
              "        vertical-align: middle;\n",
              "    }\n",
              "\n",
              "    .dataframe tbody tr th {\n",
              "        vertical-align: top;\n",
              "    }\n",
              "\n",
              "    .dataframe thead th {\n",
              "        text-align: right;\n",
              "    }\n",
              "</style>\n",
              "<table border=\"1\" class=\"dataframe\">\n",
              "  <thead>\n",
              "    <tr style=\"text-align: right;\">\n",
              "      <th></th>\n",
              "      <th>CreditScore</th>\n",
              "      <th>Age</th>\n",
              "      <th>Tenure</th>\n",
              "      <th>Balance</th>\n",
              "      <th>NumOfProducts</th>\n",
              "      <th>HasCrCard</th>\n",
              "      <th>IsActiveMember</th>\n",
              "      <th>EstimatedSalary</th>\n",
              "      <th>Geography_Germany</th>\n",
              "      <th>Geography_Spain</th>\n",
              "      <th>Gender_Male</th>\n",
              "    </tr>\n",
              "  </thead>\n",
              "  <tbody>\n",
              "    <tr>\n",
              "      <th>2761</th>\n",
              "      <td>-0.050511</td>\n",
              "      <td>1.056849</td>\n",
              "      <td>0.468277</td>\n",
              "      <td>1.099985</td>\n",
              "      <td>0.82058</td>\n",
              "      <td>0.647128</td>\n",
              "      <td>0.985439</td>\n",
              "      <td>-1.255439</td>\n",
              "      <td>1</td>\n",
              "      <td>0</td>\n",
              "      <td>1</td>\n",
              "    </tr>\n",
              "    <tr>\n",
              "      <th>2792</th>\n",
              "      <td>-1.191165</td>\n",
              "      <td>0.576710</td>\n",
              "      <td>-0.813504</td>\n",
              "      <td>-1.227139</td>\n",
              "      <td>0.82058</td>\n",
              "      <td>-1.545288</td>\n",
              "      <td>0.985439</td>\n",
              "      <td>1.230899</td>\n",
              "      <td>0</td>\n",
              "      <td>0</td>\n",
              "      <td>0</td>\n",
              "    </tr>\n",
              "    <tr>\n",
              "      <th>4308</th>\n",
              "      <td>-0.101892</td>\n",
              "      <td>0.096572</td>\n",
              "      <td>0.788723</td>\n",
              "      <td>-1.227139</td>\n",
              "      <td>-0.91243</td>\n",
              "      <td>0.647128</td>\n",
              "      <td>-1.014776</td>\n",
              "      <td>0.471368</td>\n",
              "      <td>0</td>\n",
              "      <td>0</td>\n",
              "      <td>0</td>\n",
              "    </tr>\n",
              "    <tr>\n",
              "      <th>8376</th>\n",
              "      <td>-0.512938</td>\n",
              "      <td>0.000544</td>\n",
              "      <td>-0.493058</td>\n",
              "      <td>-0.063577</td>\n",
              "      <td>-0.91243</td>\n",
              "      <td>0.647128</td>\n",
              "      <td>-1.014776</td>\n",
              "      <td>-1.012334</td>\n",
              "      <td>0</td>\n",
              "      <td>0</td>\n",
              "      <td>1</td>\n",
              "    </tr>\n",
              "    <tr>\n",
              "      <th>831</th>\n",
              "      <td>0.586611</td>\n",
              "      <td>0.192600</td>\n",
              "      <td>0.147832</td>\n",
              "      <td>-1.227139</td>\n",
              "      <td>-0.91243</td>\n",
              "      <td>-1.545288</td>\n",
              "      <td>0.985439</td>\n",
              "      <td>0.993810</td>\n",
              "      <td>0</td>\n",
              "      <td>1</td>\n",
              "      <td>0</td>\n",
              "    </tr>\n",
              "  </tbody>\n",
              "</table>\n",
              "</div>"
            ],
            "text/plain": [
              "      CreditScore       Age    Tenure   Balance  NumOfProducts  HasCrCard  \\\n",
              "2761    -0.050511  1.056849  0.468277  1.099985        0.82058   0.647128   \n",
              "2792    -1.191165  0.576710 -0.813504 -1.227139        0.82058  -1.545288   \n",
              "4308    -0.101892  0.096572  0.788723 -1.227139       -0.91243   0.647128   \n",
              "8376    -0.512938  0.000544 -0.493058 -0.063577       -0.91243   0.647128   \n",
              "831      0.586611  0.192600  0.147832 -1.227139       -0.91243  -1.545288   \n",
              "\n",
              "      IsActiveMember  EstimatedSalary  Geography_Germany  Geography_Spain  \\\n",
              "2761        0.985439        -1.255439                  1                0   \n",
              "2792        0.985439         1.230899                  0                0   \n",
              "4308       -1.014776         0.471368                  0                0   \n",
              "8376       -1.014776        -1.012334                  0                0   \n",
              "831         0.985439         0.993810                  0                1   \n",
              "\n",
              "      Gender_Male  \n",
              "2761            1  \n",
              "2792            0  \n",
              "4308            0  \n",
              "8376            1  \n",
              "831             0  "
            ]
          },
          "execution_count": 20,
          "metadata": {},
          "output_type": "execute_result"
        }
      ],
      "source": [
        "train_features.head()"
      ]
    },
    {
      "cell_type": "code",
      "execution_count": null,
      "metadata": {
        "id": "nWBnVaW-GcZb",
        "outputId": "1c076053-36fe-42b9-acda-4e858294fab7"
      },
      "outputs": [
        {
          "name": "stdout",
          "output_type": "stream",
          "text": [
            "max_depth: 1 F1: 0.0\n",
            "max_depth: 2 F1: 0.5327978580990628\n",
            "max_depth: 3 F1: 0.4165232358003442\n",
            "max_depth: 4 F1: 0.4928909952606636\n",
            "max_depth: 5 F1: 0.5103668261562999\n",
            "max_depth: 6 F1: 0.5411061285500747\n",
            "max_depth: 7 F1: 0.5694822888283378\n",
            "max_depth: 8 F1: 0.5698924731182796\n",
            "max_depth: 9 F1: 0.5636114911080711\n",
            "max_depth: 10 F1: 0.5305039787798408\n",
            "max_depth: 11 F1: 0.5199485199485201\n",
            "max_depth: 12 F1: 0.5242966751918158\n",
            "max_depth: 13 F1: 0.5139393939393939\n",
            "max_depth: 14 F1: 0.5030376670716888\n",
            "max_depth: 15 F1: 0.49881796690307323\n",
            "max_depth: 16 F1: 0.47857142857142854\n",
            "max_depth: 17 F1: 0.47953216374269003\n",
            "max_depth: 18 F1: 0.47897196261682246\n",
            "max_depth: 19 F1: 0.48139534883720925\n",
            "Лучшая F-мера 0.5698924731182796 значение глубины = 8\n"
          ]
        }
      ],
      "source": [
        "#обучим модель Дерево решения и найдем лучший гиперпараметр\n",
        "\n",
        "best_result = 0\n",
        "\n",
        "for depth in range(1,20,1):\n",
        "    model_tree=DecisionTreeClassifier(max_depth=depth,random_state=1234)\n",
        "    model_tree=model_tree.fit(train_features,train_target)\n",
        "    prediction=model_tree.predict(valid_features)\n",
        "    print('max_depth:',depth,'F1:',f1_score(valid_target,prediction))\n",
        "    result = f1_score(valid_target,prediction)\n",
        "    if best_result < result:\n",
        "        best_result = result\n",
        "        max_depth = depth\n",
        "\n",
        "\n",
        "print(\"Лучшая F-мера\", best_result, 'значение глубины =', max_depth)"
      ]
    },
    {
      "cell_type": "markdown",
      "metadata": {
        "id": "EPblkQbuGcZc"
      },
      "source": [
        "лучшее значение max_depth=8, при котором F1=0,5698"
      ]
    },
    {
      "cell_type": "code",
      "execution_count": null,
      "metadata": {
        "scrolled": true,
        "id": "AbmpcKeiGcZd",
        "outputId": "f67328b0-4b3e-4f3d-e937-19cba1081589"
      },
      "outputs": [
        {
          "name": "stdout",
          "output_type": "stream",
          "text": [
            "estimators: 10 max_depth: 10 F1: 0.56150506512301\n",
            "estimators: 10 max_depth: 13 F1: 0.56150506512301\n",
            "estimators: 10 max_depth: 16 F1: 0.56150506512301\n",
            "estimators: 10 max_depth: 19 F1: 0.56150506512301\n",
            "estimators: 12 max_depth: 10 F1: 0.5611510791366906\n",
            "estimators: 12 max_depth: 13 F1: 0.5611510791366906\n",
            "estimators: 12 max_depth: 16 F1: 0.5611510791366906\n",
            "estimators: 12 max_depth: 19 F1: 0.5611510791366906\n",
            "estimators: 14 max_depth: 10 F1: 0.5606936416184971\n",
            "estimators: 14 max_depth: 13 F1: 0.5606936416184971\n",
            "estimators: 14 max_depth: 16 F1: 0.5606936416184971\n",
            "estimators: 14 max_depth: 19 F1: 0.5606936416184971\n",
            "estimators: 16 max_depth: 10 F1: 0.5660919540229885\n",
            "estimators: 16 max_depth: 13 F1: 0.5660919540229885\n",
            "estimators: 16 max_depth: 16 F1: 0.5660919540229885\n",
            "estimators: 16 max_depth: 19 F1: 0.5660919540229885\n",
            "estimators: 18 max_depth: 10 F1: 0.5734870317002881\n",
            "estimators: 18 max_depth: 13 F1: 0.5734870317002881\n",
            "estimators: 18 max_depth: 16 F1: 0.5734870317002881\n",
            "estimators: 18 max_depth: 19 F1: 0.5734870317002881\n",
            "estimators: 20 max_depth: 10 F1: 0.5640287769784172\n",
            "estimators: 20 max_depth: 13 F1: 0.5640287769784172\n",
            "estimators: 20 max_depth: 16 F1: 0.5640287769784172\n",
            "estimators: 20 max_depth: 19 F1: 0.5640287769784172\n",
            "estimators: 22 max_depth: 10 F1: 0.5738880918220948\n",
            "estimators: 22 max_depth: 13 F1: 0.5738880918220948\n",
            "estimators: 22 max_depth: 16 F1: 0.5738880918220948\n",
            "estimators: 22 max_depth: 19 F1: 0.5738880918220948\n",
            "estimators: 24 max_depth: 10 F1: 0.5734664764621968\n",
            "estimators: 24 max_depth: 13 F1: 0.5734664764621968\n",
            "estimators: 24 max_depth: 16 F1: 0.5734664764621968\n",
            "estimators: 24 max_depth: 19 F1: 0.5734664764621968\n",
            "estimators: 26 max_depth: 10 F1: 0.5742857142857143\n",
            "estimators: 26 max_depth: 13 F1: 0.5742857142857143\n",
            "estimators: 26 max_depth: 16 F1: 0.5742857142857143\n",
            "estimators: 26 max_depth: 19 F1: 0.5742857142857143\n",
            "estimators: 28 max_depth: 10 F1: 0.5746799431009957\n",
            "estimators: 28 max_depth: 13 F1: 0.5746799431009957\n",
            "estimators: 28 max_depth: 16 F1: 0.5746799431009957\n",
            "estimators: 28 max_depth: 19 F1: 0.5746799431009957\n",
            "estimators: 30 max_depth: 10 F1: 0.5830985915492958\n",
            "estimators: 30 max_depth: 13 F1: 0.5830985915492958\n",
            "estimators: 30 max_depth: 16 F1: 0.5830985915492958\n",
            "estimators: 30 max_depth: 19 F1: 0.5830985915492958\n",
            "estimators: 32 max_depth: 10 F1: 0.5767045454545454\n",
            "estimators: 32 max_depth: 13 F1: 0.5767045454545454\n",
            "estimators: 32 max_depth: 16 F1: 0.5767045454545454\n",
            "estimators: 32 max_depth: 19 F1: 0.5767045454545454\n",
            "estimators: 34 max_depth: 10 F1: 0.5799151343705798\n",
            "estimators: 34 max_depth: 13 F1: 0.5799151343705798\n",
            "estimators: 34 max_depth: 16 F1: 0.5799151343705798\n",
            "estimators: 34 max_depth: 19 F1: 0.5799151343705798\n",
            "estimators: 36 max_depth: 10 F1: 0.5767045454545454\n",
            "estimators: 36 max_depth: 13 F1: 0.5767045454545454\n",
            "estimators: 36 max_depth: 16 F1: 0.5767045454545454\n",
            "estimators: 36 max_depth: 19 F1: 0.5767045454545454\n",
            "estimators: 38 max_depth: 10 F1: 0.5726495726495727\n",
            "estimators: 38 max_depth: 13 F1: 0.5726495726495727\n",
            "estimators: 38 max_depth: 16 F1: 0.5726495726495727\n",
            "estimators: 38 max_depth: 19 F1: 0.5726495726495727\n",
            "estimators: 40 max_depth: 10 F1: 0.5880681818181818\n",
            "estimators: 40 max_depth: 13 F1: 0.5880681818181818\n",
            "estimators: 40 max_depth: 16 F1: 0.5880681818181818\n",
            "estimators: 40 max_depth: 19 F1: 0.5880681818181818\n",
            "estimators: 42 max_depth: 10 F1: 0.5887323943661972\n",
            "estimators: 42 max_depth: 13 F1: 0.5887323943661972\n",
            "estimators: 42 max_depth: 16 F1: 0.5887323943661972\n",
            "estimators: 42 max_depth: 19 F1: 0.5887323943661972\n",
            "estimators: 44 max_depth: 10 F1: 0.5879043600562588\n",
            "estimators: 44 max_depth: 13 F1: 0.5879043600562588\n",
            "estimators: 44 max_depth: 16 F1: 0.5879043600562588\n",
            "estimators: 44 max_depth: 19 F1: 0.5879043600562588\n",
            "estimators: 46 max_depth: 10 F1: 0.595505617977528\n",
            "estimators: 46 max_depth: 13 F1: 0.595505617977528\n",
            "estimators: 46 max_depth: 16 F1: 0.595505617977528\n",
            "estimators: 46 max_depth: 19 F1: 0.595505617977528\n",
            "estimators: 48 max_depth: 10 F1: 0.5887323943661972\n",
            "estimators: 48 max_depth: 13 F1: 0.5887323943661972\n",
            "estimators: 48 max_depth: 16 F1: 0.5887323943661972\n",
            "estimators: 48 max_depth: 19 F1: 0.5887323943661972\n",
            "Лучшая F-мера 0.595505617977528 при глубине = 19 и количестве деревьев = 46\n"
          ]
        }
      ],
      "source": [
        "#обучим модель Случайный лес и найдем лучший гиперпараметр\n",
        "best_result = 0\n",
        "best_est = 0\n",
        "best_depth = 0\n",
        "for estimator in range(10, 50, 2):\n",
        "    for max_depth in range(10,20,3):\n",
        "        model_forest=RandomForestClassifier(max_depth=depth,n_estimators=estimator,random_state=1234)\n",
        "        model_forest=model_forest.fit(train_features,train_target)\n",
        "        prediction=model_forest.predict(valid_features)\n",
        "        print('estimators:', estimator, 'max_depth:', max_depth,'F1:',f1_score(valid_target,prediction))\n",
        "        result = f1_score(valid_target,prediction)\n",
        "        if best_result < result:\n",
        "            best_result = result\n",
        "            best_depth = depth\n",
        "            best_est = estimator\n",
        "print(\"Лучшая F-мера\", best_result, 'при глубине = {0} и количестве деревьев = {1}'.format(best_depth, best_est))"
      ]
    },
    {
      "cell_type": "markdown",
      "metadata": {
        "id": "EgpVzcbrGcZe"
      },
      "source": [
        "лучшее значение max_depth: 19 F1: 0.5955 и количестве деревьев = 46"
      ]
    },
    {
      "cell_type": "code",
      "execution_count": null,
      "metadata": {
        "scrolled": true,
        "id": "SmU5qiW-GcZf",
        "outputId": "a714f6b0-cd6e-4a81-bd0a-9aa6b5d3ef21"
      },
      "outputs": [
        {
          "name": "stdout",
          "output_type": "stream",
          "text": [
            "F1: 0.33333333333333337\n"
          ]
        }
      ],
      "source": [
        "#обучим модель Логистическая регрессия\n",
        "model_log=LogisticRegression(random_state=1234,solver='liblinear')\n",
        "model_log.fit(train_features,train_target)\n",
        "prediction=model_log.predict(valid_features)\n",
        "print('F1:',f1_score(valid_target,prediction))\n"
      ]
    },
    {
      "cell_type": "markdown",
      "metadata": {
        "id": "RHjWYpY1GcZf"
      },
      "source": [
        "Вывод: мы исследовали задачу заведомо зная, что присутствует дисбаланс в данных. Были задействовали три модели Дерево решения, Случайный лес и Логистическая регрессия. Сравнив их метрики F1,можно сделать вывод, что самая лучшая модель оказалась Случайный лес. При лучшем значении max_depth 19   и количестве деревьев = 46, мы имеем F1 меру =0.5955 на валидационной выборке."
      ]
    },
    {
      "cell_type": "markdown",
      "metadata": {
        "id": "5trAHzD5GcZg"
      },
      "source": [
        "## Борьба с дисбалансом"
      ]
    },
    {
      "cell_type": "markdown",
      "metadata": {
        "id": "o9DNO4egGcZh"
      },
      "source": [
        "### придадим объектам редкого класса (1) больший вес гиперпараметром class_weight='balanced'   "
      ]
    },
    {
      "cell_type": "code",
      "execution_count": null,
      "metadata": {
        "id": "ohy9ddh-GcZh",
        "outputId": "b6fae97f-b540-4cee-d514-36d564884078"
      },
      "outputs": [
        {
          "name": "stdout",
          "output_type": "stream",
          "text": [
            "max_depth: 1 F1: 0.5129151291512916\n",
            "max_depth: 2 F1: 0.5385996409335726\n",
            "max_depth: 3 F1: 0.5385996409335726\n",
            "max_depth: 4 F1: 0.5727029438001785\n",
            "max_depth: 5 F1: 0.5800711743772242\n",
            "max_depth: 6 F1: 0.5871559633027523\n",
            "max_depth: 7 F1: 0.5809352517985612\n",
            "max_depth: 8 F1: 0.5684024713150927\n",
            "max_depth: 9 F1: 0.5621033544877606\n",
            "max_depth: 10 F1: 0.5525525525525526\n",
            "max_depth: 11 F1: 0.5417075564278705\n",
            "max_depth: 12 F1: 0.5300429184549357\n",
            "max_depth: 13 F1: 0.5186766275346851\n",
            "max_depth: 14 F1: 0.5005324813631523\n",
            "max_depth: 15 F1: 0.5148514851485148\n",
            "max_depth: 16 F1: 0.5240761478163495\n",
            "max_depth: 17 F1: 0.5186020293122886\n",
            "max_depth: 18 F1: 0.5135746606334842\n",
            "max_depth: 19 F1: 0.5159817351598174\n",
            "Лучшая F-мера 0.5871559633027523 значение глубины = 6\n"
          ]
        }
      ],
      "source": [
        "#сначала для дерева решений\n",
        "best_result = 0\n",
        "\n",
        "for depth in range(1,20,1):\n",
        "    model_tree=DecisionTreeClassifier(max_depth=depth,random_state=1234,class_weight='balanced')\n",
        "    model_tree=model_tree.fit(train_features,train_target)\n",
        "    prediction=model_tree.predict(valid_features)\n",
        "    print('max_depth:',depth,'F1:',f1_score(valid_target,prediction))\n",
        "    result = f1_score(valid_target,prediction)\n",
        "    if best_result < result:\n",
        "        best_result = result\n",
        "        max_depth = depth\n",
        "\n",
        "\n",
        "print(\"Лучшая F-мера\", best_result, 'значение глубины =', max_depth)"
      ]
    },
    {
      "cell_type": "code",
      "execution_count": null,
      "metadata": {
        "scrolled": true,
        "id": "Z0ju9tC-GcZi",
        "outputId": "3aa57f05-c060-474f-b0f8-96f014b062df"
      },
      "outputs": [
        {
          "name": "stdout",
          "output_type": "stream",
          "text": [
            "estimators: 10 max_depth: 10 F1: 0.514792899408284\n",
            "estimators: 10 max_depth: 13 F1: 0.514792899408284\n",
            "estimators: 10 max_depth: 16 F1: 0.514792899408284\n",
            "estimators: 10 max_depth: 19 F1: 0.514792899408284\n",
            "estimators: 12 max_depth: 10 F1: 0.5333333333333332\n",
            "estimators: 12 max_depth: 13 F1: 0.5333333333333332\n",
            "estimators: 12 max_depth: 16 F1: 0.5333333333333332\n",
            "estimators: 12 max_depth: 19 F1: 0.5333333333333332\n",
            "estimators: 14 max_depth: 10 F1: 0.5370919881305637\n",
            "estimators: 14 max_depth: 13 F1: 0.5370919881305637\n",
            "estimators: 14 max_depth: 16 F1: 0.5370919881305637\n",
            "estimators: 14 max_depth: 19 F1: 0.5370919881305637\n",
            "estimators: 16 max_depth: 10 F1: 0.5476190476190476\n",
            "estimators: 16 max_depth: 13 F1: 0.5476190476190476\n",
            "estimators: 16 max_depth: 16 F1: 0.5476190476190476\n",
            "estimators: 16 max_depth: 19 F1: 0.5476190476190476\n",
            "estimators: 18 max_depth: 10 F1: 0.5558823529411765\n",
            "estimators: 18 max_depth: 13 F1: 0.5558823529411765\n",
            "estimators: 18 max_depth: 16 F1: 0.5558823529411765\n",
            "estimators: 18 max_depth: 19 F1: 0.5558823529411765\n",
            "estimators: 20 max_depth: 10 F1: 0.5592972181551976\n",
            "estimators: 20 max_depth: 13 F1: 0.5592972181551976\n",
            "estimators: 20 max_depth: 16 F1: 0.5592972181551976\n",
            "estimators: 20 max_depth: 19 F1: 0.5592972181551976\n",
            "estimators: 22 max_depth: 10 F1: 0.561046511627907\n",
            "estimators: 22 max_depth: 13 F1: 0.561046511627907\n",
            "estimators: 22 max_depth: 16 F1: 0.561046511627907\n",
            "estimators: 22 max_depth: 19 F1: 0.561046511627907\n",
            "estimators: 24 max_depth: 10 F1: 0.5714285714285714\n",
            "estimators: 24 max_depth: 13 F1: 0.5714285714285714\n",
            "estimators: 24 max_depth: 16 F1: 0.5714285714285714\n",
            "estimators: 24 max_depth: 19 F1: 0.5714285714285714\n",
            "estimators: 26 max_depth: 10 F1: 0.5685131195335277\n",
            "estimators: 26 max_depth: 13 F1: 0.5685131195335277\n",
            "estimators: 26 max_depth: 16 F1: 0.5685131195335277\n",
            "estimators: 26 max_depth: 19 F1: 0.5685131195335277\n",
            "estimators: 28 max_depth: 10 F1: 0.566860465116279\n",
            "estimators: 28 max_depth: 13 F1: 0.566860465116279\n",
            "estimators: 28 max_depth: 16 F1: 0.566860465116279\n",
            "estimators: 28 max_depth: 19 F1: 0.566860465116279\n",
            "estimators: 30 max_depth: 10 F1: 0.5706051873198847\n",
            "estimators: 30 max_depth: 13 F1: 0.5706051873198847\n",
            "estimators: 30 max_depth: 16 F1: 0.5706051873198847\n",
            "estimators: 30 max_depth: 19 F1: 0.5706051873198847\n",
            "estimators: 32 max_depth: 10 F1: 0.5689655172413792\n",
            "estimators: 32 max_depth: 13 F1: 0.5689655172413792\n",
            "estimators: 32 max_depth: 16 F1: 0.5689655172413792\n",
            "estimators: 32 max_depth: 19 F1: 0.5689655172413792\n",
            "estimators: 34 max_depth: 10 F1: 0.5635838150289016\n",
            "estimators: 34 max_depth: 13 F1: 0.5635838150289016\n",
            "estimators: 34 max_depth: 16 F1: 0.5635838150289016\n",
            "estimators: 34 max_depth: 19 F1: 0.5635838150289016\n",
            "estimators: 36 max_depth: 10 F1: 0.5706051873198847\n",
            "estimators: 36 max_depth: 13 F1: 0.5706051873198847\n",
            "estimators: 36 max_depth: 16 F1: 0.5706051873198847\n",
            "estimators: 36 max_depth: 19 F1: 0.5706051873198847\n",
            "estimators: 38 max_depth: 10 F1: 0.5730824891461649\n",
            "estimators: 38 max_depth: 13 F1: 0.5730824891461649\n",
            "estimators: 38 max_depth: 16 F1: 0.5730824891461649\n",
            "estimators: 38 max_depth: 19 F1: 0.5730824891461649\n",
            "estimators: 40 max_depth: 10 F1: 0.5672937771345876\n",
            "estimators: 40 max_depth: 13 F1: 0.5672937771345876\n",
            "estimators: 40 max_depth: 16 F1: 0.5672937771345876\n",
            "estimators: 40 max_depth: 19 F1: 0.5672937771345876\n",
            "estimators: 42 max_depth: 10 F1: 0.5635036496350365\n",
            "estimators: 42 max_depth: 13 F1: 0.5635036496350365\n",
            "estimators: 42 max_depth: 16 F1: 0.5635036496350365\n",
            "estimators: 42 max_depth: 19 F1: 0.5635036496350365\n",
            "estimators: 44 max_depth: 10 F1: 0.5635036496350365\n",
            "estimators: 44 max_depth: 13 F1: 0.5635036496350365\n",
            "estimators: 44 max_depth: 16 F1: 0.5635036496350365\n",
            "estimators: 44 max_depth: 19 F1: 0.5635036496350365\n",
            "estimators: 46 max_depth: 10 F1: 0.5589519650655022\n",
            "estimators: 46 max_depth: 13 F1: 0.5589519650655022\n",
            "estimators: 46 max_depth: 16 F1: 0.5589519650655022\n",
            "estimators: 46 max_depth: 19 F1: 0.5589519650655022\n",
            "estimators: 48 max_depth: 10 F1: 0.5623188405797102\n",
            "estimators: 48 max_depth: 13 F1: 0.5623188405797102\n",
            "estimators: 48 max_depth: 16 F1: 0.5623188405797102\n",
            "estimators: 48 max_depth: 19 F1: 0.5623188405797102\n",
            "Лучшая F-мера 0.5730824891461649 при глубине = 19 и количестве деревьев = 38\n"
          ]
        }
      ],
      "source": [
        "# модель Случайный лес\n",
        "best_result = 0\n",
        "best_est = 0\n",
        "best_depth = 0\n",
        "for estimator in range(10, 50, 2):\n",
        "    for max_depth in range(10,20,3):\n",
        "        model_forest=RandomForestClassifier(max_depth=depth,n_estimators=estimator,random_state=1234,class_weight='balanced')\n",
        "        model_forest=model_forest.fit(train_features,train_target)\n",
        "        prediction=model_forest.predict(valid_features)\n",
        "        print('estimators:', estimator, 'max_depth:', max_depth,'F1:',f1_score(valid_target,prediction))\n",
        "        result = f1_score(valid_target,prediction)\n",
        "        if best_result < result:\n",
        "            best_result = result\n",
        "            best_depth = depth\n",
        "            best_est = estimator\n",
        "print(\"Лучшая F-мера\", best_result, 'при глубине = {0} и количестве деревьев = {1}'.format(best_depth, best_est))"
      ]
    },
    {
      "cell_type": "code",
      "execution_count": null,
      "metadata": {
        "id": "fZrayky7GcZj",
        "outputId": "b7329360-c4c6-4a45-86eb-7831cb068897"
      },
      "outputs": [
        {
          "name": "stdout",
          "output_type": "stream",
          "text": [
            "F1: 0.5223488168273445\n"
          ]
        }
      ],
      "source": [
        "# модель Логистическая регрессия\n",
        "model_log=LogisticRegression(random_state=1234,solver='liblinear',class_weight='balanced')\n",
        "model_log.fit(train_features,train_target)\n",
        "prediction=model_log.predict(valid_features)\n",
        "print('F1:',f1_score(valid_target,prediction))"
      ]
    },
    {
      "cell_type": "markdown",
      "metadata": {
        "id": "feCw1QjRGcZj"
      },
      "source": [
        "с балансировкой результат у Логистической регресси заметно вырос, у  Дерево решений немного, а вот у Случайный лес немного снизился"
      ]
    },
    {
      "cell_type": "markdown",
      "metadata": {
        "id": "yB5-G5RTGcZl"
      },
      "source": [
        "### для лучшей балансировки увеличим объекты редкого класса для моделей"
      ]
    },
    {
      "cell_type": "code",
      "execution_count": null,
      "metadata": {
        "id": "jt1DP8gDGcZm"
      },
      "outputs": [],
      "source": [
        "#применим методы увеличения\n",
        "def upsampling (features,target,repeat):\n",
        "    target_one=target[target==1]\n",
        "    target_null=target[target==0]\n",
        "    features_one=features[target==1]\n",
        "    features_null=features[target==0]\n",
        "    upsampling_features=pd.concat([features_null]+[features_one]*repeat)\n",
        "    upsampling_target=pd.concat([target_null]+[target_one]*repeat)\n",
        "    upsampling_features,upsampling_target=shuffle(upsampling_features,upsampling_target,random_state=1234)\n",
        "\n",
        "    return upsampling_features,upsampling_target"
      ]
    },
    {
      "cell_type": "code",
      "execution_count": null,
      "metadata": {
        "id": "tQImBOIQGcZn"
      },
      "outputs": [],
      "source": [
        "up_features,up_target=upsampling(train_features,train_target,4)"
      ]
    },
    {
      "cell_type": "code",
      "execution_count": null,
      "metadata": {
        "id": "ILJHfP2wGcZo",
        "outputId": "469d7966-6e4a-456f-dceb-e7dd6933b830"
      },
      "outputs": [
        {
          "name": "stdout",
          "output_type": "stream",
          "text": [
            "max_depth: 1 F1: 0.5129151291512916\n",
            "max_depth: 2 F1: 0.5385996409335726\n",
            "max_depth: 3 F1: 0.5385996409335726\n",
            "max_depth: 4 F1: 0.5727029438001785\n",
            "max_depth: 5 F1: 0.5800711743772242\n",
            "max_depth: 6 F1: 0.5871559633027523\n",
            "max_depth: 7 F1: 0.5770964833183049\n",
            "max_depth: 8 F1: 0.5658709106984969\n",
            "max_depth: 9 F1: 0.5647058823529413\n",
            "max_depth: 10 F1: 0.5490981963927856\n",
            "max_depth: 11 F1: 0.5349065880039332\n",
            "max_depth: 12 F1: 0.5262032085561498\n",
            "max_depth: 13 F1: 0.5173160173160173\n",
            "max_depth: 14 F1: 0.5131578947368421\n",
            "max_depth: 15 F1: 0.5169300225733634\n",
            "max_depth: 16 F1: 0.5163472378804961\n",
            "max_depth: 17 F1: 0.5186020293122886\n",
            "max_depth: 18 F1: 0.5114155251141553\n",
            "max_depth: 19 F1: 0.4994192799070848\n",
            "Лучшая F-мера 0.5871559633027523 значение глубины = 6\n"
          ]
        }
      ],
      "source": [
        "# Дерево решений\n",
        "best_result = 0\n",
        "\n",
        "for depth in range(1,20,1):\n",
        "    model_tree=DecisionTreeClassifier(max_depth=depth,random_state=1234,class_weight='balanced')\n",
        "    model_tree=model_tree.fit(up_features,up_target)\n",
        "    prediction=model_tree.predict(valid_features)\n",
        "    print('max_depth:',depth,'F1:',f1_score(valid_target,prediction))\n",
        "    result = f1_score(valid_target,prediction)\n",
        "    if best_result < result:\n",
        "        best_result = result\n",
        "        max_depth = depth\n",
        "\n",
        "\n",
        "print(\"Лучшая F-мера\", best_result, 'значение глубины =', max_depth)"
      ]
    },
    {
      "cell_type": "code",
      "execution_count": null,
      "metadata": {
        "scrolled": true,
        "id": "zDbmRMwQGcZo",
        "outputId": "37dc32a9-0270-4a0d-db1c-ab788eb77f5f"
      },
      "outputs": [
        {
          "name": "stdout",
          "output_type": "stream",
          "text": [
            "estimators: 10 max_depth: 10 F1: 0.5830164765525983\n",
            "estimators: 10 max_depth: 13 F1: 0.5830164765525983\n",
            "estimators: 10 max_depth: 16 F1: 0.5830164765525983\n",
            "estimators: 10 max_depth: 19 F1: 0.5830164765525983\n",
            "estimators: 12 max_depth: 10 F1: 0.601522842639594\n",
            "estimators: 12 max_depth: 13 F1: 0.601522842639594\n",
            "estimators: 12 max_depth: 16 F1: 0.601522842639594\n",
            "estimators: 12 max_depth: 19 F1: 0.601522842639594\n",
            "estimators: 14 max_depth: 10 F1: 0.6104725415070242\n",
            "estimators: 14 max_depth: 13 F1: 0.6104725415070242\n",
            "estimators: 14 max_depth: 16 F1: 0.6104725415070242\n",
            "estimators: 14 max_depth: 19 F1: 0.6104725415070242\n",
            "estimators: 16 max_depth: 10 F1: 0.601522842639594\n",
            "estimators: 16 max_depth: 13 F1: 0.601522842639594\n",
            "estimators: 16 max_depth: 16 F1: 0.601522842639594\n",
            "estimators: 16 max_depth: 19 F1: 0.601522842639594\n",
            "estimators: 18 max_depth: 10 F1: 0.6007702182284982\n",
            "estimators: 18 max_depth: 13 F1: 0.6007702182284982\n",
            "estimators: 18 max_depth: 16 F1: 0.6007702182284982\n",
            "estimators: 18 max_depth: 19 F1: 0.6007702182284982\n",
            "estimators: 20 max_depth: 10 F1: 0.6053639846743295\n",
            "estimators: 20 max_depth: 13 F1: 0.6053639846743295\n",
            "estimators: 20 max_depth: 16 F1: 0.6053639846743295\n",
            "estimators: 20 max_depth: 19 F1: 0.6053639846743295\n",
            "estimators: 22 max_depth: 10 F1: 0.602287166454892\n",
            "estimators: 22 max_depth: 13 F1: 0.602287166454892\n",
            "estimators: 22 max_depth: 16 F1: 0.602287166454892\n",
            "estimators: 22 max_depth: 19 F1: 0.602287166454892\n",
            "estimators: 24 max_depth: 10 F1: 0.6065989847715736\n",
            "estimators: 24 max_depth: 13 F1: 0.6065989847715736\n",
            "estimators: 24 max_depth: 16 F1: 0.6065989847715736\n",
            "estimators: 24 max_depth: 19 F1: 0.6065989847715736\n",
            "estimators: 26 max_depth: 10 F1: 0.6017699115044248\n",
            "estimators: 26 max_depth: 13 F1: 0.6017699115044248\n",
            "estimators: 26 max_depth: 16 F1: 0.6017699115044248\n",
            "estimators: 26 max_depth: 19 F1: 0.6017699115044248\n",
            "estimators: 28 max_depth: 10 F1: 0.6030150753768844\n",
            "estimators: 28 max_depth: 13 F1: 0.6030150753768844\n",
            "estimators: 28 max_depth: 16 F1: 0.6030150753768844\n",
            "estimators: 28 max_depth: 19 F1: 0.6030150753768844\n",
            "estimators: 30 max_depth: 10 F1: 0.6091370558375635\n",
            "estimators: 30 max_depth: 13 F1: 0.6091370558375635\n",
            "estimators: 30 max_depth: 16 F1: 0.6091370558375635\n",
            "estimators: 30 max_depth: 19 F1: 0.6091370558375635\n",
            "estimators: 32 max_depth: 10 F1: 0.6085858585858586\n",
            "estimators: 32 max_depth: 13 F1: 0.6085858585858586\n",
            "estimators: 32 max_depth: 16 F1: 0.6085858585858586\n",
            "estimators: 32 max_depth: 19 F1: 0.6085858585858586\n",
            "estimators: 34 max_depth: 10 F1: 0.6118836915297092\n",
            "estimators: 34 max_depth: 13 F1: 0.6118836915297092\n",
            "estimators: 34 max_depth: 16 F1: 0.6118836915297092\n",
            "estimators: 34 max_depth: 19 F1: 0.6118836915297092\n",
            "estimators: 36 max_depth: 10 F1: 0.611111111111111\n",
            "estimators: 36 max_depth: 13 F1: 0.611111111111111\n",
            "estimators: 36 max_depth: 16 F1: 0.611111111111111\n",
            "estimators: 36 max_depth: 19 F1: 0.611111111111111\n",
            "estimators: 38 max_depth: 10 F1: 0.6060606060606061\n",
            "estimators: 38 max_depth: 13 F1: 0.6060606060606061\n",
            "estimators: 38 max_depth: 16 F1: 0.6060606060606061\n",
            "estimators: 38 max_depth: 19 F1: 0.6060606060606061\n",
            "estimators: 40 max_depth: 10 F1: 0.6073697585768741\n",
            "estimators: 40 max_depth: 13 F1: 0.6073697585768741\n",
            "estimators: 40 max_depth: 16 F1: 0.6073697585768741\n",
            "estimators: 40 max_depth: 19 F1: 0.6073697585768741\n",
            "estimators: 42 max_depth: 10 F1: 0.605296343001261\n",
            "estimators: 42 max_depth: 13 F1: 0.605296343001261\n",
            "estimators: 42 max_depth: 16 F1: 0.605296343001261\n",
            "estimators: 42 max_depth: 19 F1: 0.605296343001261\n",
            "estimators: 44 max_depth: 10 F1: 0.6005089058524173\n",
            "estimators: 44 max_depth: 13 F1: 0.6005089058524173\n",
            "estimators: 44 max_depth: 16 F1: 0.6005089058524173\n",
            "estimators: 44 max_depth: 19 F1: 0.6005089058524173\n",
            "estimators: 46 max_depth: 10 F1: 0.6002554278416347\n",
            "estimators: 46 max_depth: 13 F1: 0.6002554278416347\n",
            "estimators: 46 max_depth: 16 F1: 0.6002554278416347\n",
            "estimators: 46 max_depth: 19 F1: 0.6002554278416347\n",
            "estimators: 48 max_depth: 10 F1: 0.5997458703939009\n",
            "estimators: 48 max_depth: 13 F1: 0.5997458703939009\n",
            "estimators: 48 max_depth: 16 F1: 0.5997458703939009\n",
            "estimators: 48 max_depth: 19 F1: 0.5997458703939009\n",
            "Лучшая F-мера 0.6118836915297092 при глубине = 19 и количестве деревьев = 34\n"
          ]
        }
      ],
      "source": [
        "# модель Случайный лес\n",
        "best_result = 0\n",
        "best_est = 0\n",
        "best_depth = 0\n",
        "for estimator in range(10, 50, 2):\n",
        "    for max_depth in range(10,20,3):\n",
        "        model_forest=RandomForestClassifier(max_depth=depth,n_estimators=estimator,random_state=1234,class_weight='balanced')\n",
        "        model_forest=model_forest.fit(up_features,up_target)\n",
        "        prediction=model_forest.predict(valid_features)\n",
        "        print('estimators:', estimator, 'max_depth:', max_depth,'F1:',f1_score(valid_target,prediction))\n",
        "        result = f1_score(valid_target,prediction)\n",
        "        if best_result < result:\n",
        "            best_result = result\n",
        "            best_depth = depth\n",
        "            best_est = estimator\n",
        "print(\"Лучшая F-мера\", best_result, 'при глубине = {0} и количестве деревьев = {1}'.format(best_depth, best_est))"
      ]
    },
    {
      "cell_type": "code",
      "execution_count": null,
      "metadata": {
        "id": "Rose9pndGcZq",
        "outputId": "c8749dc5-ab1f-4ee1-aa07-a36e4f638fd7"
      },
      "outputs": [
        {
          "name": "stdout",
          "output_type": "stream",
          "text": [
            "F1: 0.5223488168273445\n"
          ]
        }
      ],
      "source": [
        "# модель Логистическая регрессия\n",
        "model_log=LogisticRegression(random_state=1234,solver='liblinear',class_weight='balanced')\n",
        "model_log.fit(up_features,up_target)\n",
        "prediction=model_log.predict(valid_features)\n",
        "print('F1:', f1_score(valid_target,prediction))"
      ]
    },
    {
      "cell_type": "markdown",
      "metadata": {
        "id": "dZ9o3VfoGcZq"
      },
      "source": [
        "Вывод. Мы использовали разные возможности для борьбы с дисбалансом -использовав специальный гиперпараметр, а также метод увеличения объектов редкого класса. Можно отметить, что у модели Случайный лес при глубине = 19 и количестве деревьев = 34 параметр F-мера вырос и стал 0.6118 , что соответствет и даже немного превышает целевой согласно заданию."
      ]
    },
    {
      "cell_type": "markdown",
      "metadata": {
        "id": "hSCdDnheGcZr"
      },
      "source": [
        "## Тестирование модели"
      ]
    },
    {
      "cell_type": "markdown",
      "metadata": {
        "id": "TS1PwTRxGcZs"
      },
      "source": [
        "### проведем тестирование"
      ]
    },
    {
      "cell_type": "code",
      "execution_count": null,
      "metadata": {
        "scrolled": true,
        "id": "17BxKpKcGcZs"
      },
      "outputs": [],
      "source": [
        "#задействуем специально выделенную тестовую выборку на лучшей модели\n",
        "\n",
        "#best_result = 0\n",
        "#best_est = 0\n",
        "#best_depth = 0\n",
        "#for estimator in range(10, 50, 2):\n",
        "    #for max_depth in range(10,20,3):\n",
        "        #model_forest=RandomForestClassifier(max_depth=depth,n_estimators=estimator,random_state=1234,class_weight='balanced')\n",
        "        #model_forest=model_forest.fit(up_features,up_target)\n",
        "        #prediction=model_forest.predict(test_features)\n",
        "        #print('estimators:', estimator, 'max_depth:', max_depth,'F1:',f1_score(test_target,prediction))\n",
        "        #result = f1_score(test_target,prediction)\n",
        "        #if best_result < result:\n",
        "            #best_result = result\n",
        "            #best_depth = depth\n",
        "            #best_est = estimator\n",
        "#print(\"Лучшая F-мера\", best_result, 'при глубине = {0} и количестве деревьев = {1}'.format(best_depth, best_est))\n"
      ]
    },
    {
      "cell_type": "code",
      "execution_count": null,
      "metadata": {
        "id": "9cpGjmQEGcZt"
      },
      "outputs": [],
      "source": [
        "#print('f1 модели на тестовой выборке', best_result)"
      ]
    },
    {
      "cell_type": "code",
      "execution_count": null,
      "metadata": {
        "id": "N3N3mETXGcZt",
        "outputId": "8c6849ad-4a69-4775-faef-8653750fdeee"
      },
      "outputs": [
        {
          "name": "stdout",
          "output_type": "stream",
          "text": [
            "F1: 0.5906362545018008\n"
          ]
        }
      ],
      "source": [
        "#тестовая выборка на лучшей модели\n",
        "model_forest=RandomForestClassifier(max_depth=10,n_estimators=34,class_weight='balanced',random_state=1234)\n",
        "model_forest=model_forest.fit(up_features,up_target)\n",
        "prediction=model_forest.predict(test_features)\n",
        "print('F1:', f1_score(test_target,prediction))"
      ]
    },
    {
      "cell_type": "markdown",
      "metadata": {
        "id": "CAff-F10GcZv"
      },
      "source": [
        "### исследуем метрику AUC-ROC"
      ]
    },
    {
      "cell_type": "code",
      "execution_count": null,
      "metadata": {
        "id": "iIanMFyqGcZv"
      },
      "outputs": [],
      "source": [
        "probabilities_valid_tr = model_tree.predict_proba(test_features)\n",
        "probabilities_one_valid_tr = probabilities_valid_tr[:, 1]\n",
        "fpr_tr, tpr_tr, thresholds = roc_curve(test_target, probabilities_one_valid_tr)"
      ]
    },
    {
      "cell_type": "code",
      "execution_count": null,
      "metadata": {
        "id": "IZhvrxRiGcZw",
        "outputId": "8e63d132-70a1-40da-cc39-2a1e72f7fd4f"
      },
      "outputs": [
        {
          "data": {
            "text/plain": [
              "0.6858058314118017"
            ]
          },
          "execution_count": 36,
          "metadata": {},
          "output_type": "execute_result"
        }
      ],
      "source": [
        "auc_roc = roc_auc_score(test_target, probabilities_one_valid_tr)\n",
        "auc_roc"
      ]
    },
    {
      "cell_type": "code",
      "execution_count": null,
      "metadata": {
        "id": "4I-wsY_MGcZw"
      },
      "outputs": [],
      "source": [
        "probabilities_valid_lg = model_log.predict_proba(test_features)\n",
        "probabilities_one_valid_lg = probabilities_valid_lg[:, 1]\n",
        "fpr_log, tpr_log, thresholds = roc_curve(test_target, probabilities_one_valid_lg)"
      ]
    },
    {
      "cell_type": "code",
      "execution_count": null,
      "metadata": {
        "id": "WZFT1N-_GcZx",
        "outputId": "4f770700-15a0-476c-f2d1-9e236780cf75"
      },
      "outputs": [
        {
          "data": {
            "text/plain": [
              "0.7653416832617127"
            ]
          },
          "execution_count": 38,
          "metadata": {},
          "output_type": "execute_result"
        }
      ],
      "source": [
        "auc_roc = roc_auc_score(test_target, probabilities_one_valid_lg)\n",
        "auc_roc"
      ]
    },
    {
      "cell_type": "code",
      "execution_count": null,
      "metadata": {
        "id": "wv4OPkaSGcZx"
      },
      "outputs": [],
      "source": [
        "probabilities_valid = model_forest.predict_proba(test_features)\n",
        "probabilities_one_valid = probabilities_valid[:, 1]\n",
        "fpr_fr, tpr_fr, thresholds = roc_curve(test_target, probabilities_one_valid)"
      ]
    },
    {
      "cell_type": "code",
      "execution_count": null,
      "metadata": {
        "id": "GAyzwYKCGcZy",
        "outputId": "551eeb73-aaba-40ef-efc8-7341e73ed76d"
      },
      "outputs": [
        {
          "data": {
            "text/plain": [
              "0.8524042618698249"
            ]
          },
          "execution_count": 40,
          "metadata": {},
          "output_type": "execute_result"
        }
      ],
      "source": [
        "auc_roc = roc_auc_score(test_target, probabilities_one_valid)\n",
        "auc_roc"
      ]
    },
    {
      "cell_type": "code",
      "execution_count": null,
      "metadata": {
        "id": "-RA8atjXGcZy",
        "outputId": "4f78d4a4-3252-4404-a8b0-b5337215733a"
      },
      "outputs": [
        {
          "data": {
            "image/png": "[encoded data removed]",
            "text/plain": [
              "<Figure size 432x288 with 1 Axes>"
            ]
          },
          "metadata": {
            "needs_background": "light"
          },
          "output_type": "display_data"
        }
      ],
      "source": [
        "plt.figure()\n",
        "plt.plot([0, 1], [0, 1], linestyle='--')\n",
        "plt.plot(fpr_fr, tpr_fr)\n",
        "plt.plot(fpr_log, tpr_log)\n",
        "plt.plot(fpr_tr, tpr_tr)\n",
        "plt.xlim([0.0, 1.0])\n",
        "plt.ylim([0.0, 1.0])\n",
        "plt.xlabel('False Positive Rate')\n",
        "plt.ylabel('True Positive Rate')\n",
        "plt.title('ROC-кривая')\n",
        "plt.legend(('Случайная модель','Случайный лес','Логистическая регрессия','Дерево решения'),\n",
        "           loc= 'upper left')\n",
        "plt.show()\n"
      ]
    },
    {
      "cell_type": "markdown",
      "metadata": {
        "id": "_hDPLi4lGcZz"
      },
      "source": [
        "Общий вывод. Нами рассмотрены и обработаны полученные данные. С использованием разных методов проанализированы три модели  LogisticRegression, DecisionTreeClassifier, RandomForestClassifier. Лучшей по показателям стала модель RandomForestClassifier(Случайный лес): f1 модели на тестовой выборке 0.5906, метрика auc_roc=0.8524. На построенном по тестовым данным графике наглядно видно преимущество модели над двумя другими. Данную модель с наибольшими метриками можно использовать для прогнозирования оттока клиентов банка на основе исторических данных поведения клиентов.\n"
      ]
    }
  ],
  "metadata": {
    "ExecuteTimeLog": [
      {
        "duration": 407,
        "start_time": "2022-12-30T03:33:23.090Z"
      },
      {
        "duration": 84,
        "start_time": "2022-12-30T03:34:04.798Z"
      },
      {
        "duration": 19,
        "start_time": "2022-12-30T03:34:39.550Z"
      },
      {
        "duration": 62,
        "start_time": "2022-12-30T03:36:14.434Z"
      },
      {
        "duration": 7,
        "start_time": "2022-12-30T03:37:01.602Z"
      },
      {
        "duration": 17,
        "start_time": "2022-12-30T03:37:11.670Z"
      },
      {
        "duration": 7,
        "start_time": "2022-12-30T03:38:54.049Z"
      },
      {
        "duration": 381,
        "start_time": "2022-12-30T03:39:00.929Z"
      },
      {
        "duration": 42,
        "start_time": "2022-12-30T03:39:01.312Z"
      },
      {
        "duration": 60,
        "start_time": "2022-12-30T03:39:01.355Z"
      },
      {
        "duration": 25,
        "start_time": "2022-12-30T03:39:10.197Z"
      },
      {
        "duration": 12,
        "start_time": "2022-12-30T03:40:42.717Z"
      },
      {
        "duration": 8,
        "start_time": "2022-12-30T03:49:20.610Z"
      },
      {
        "duration": 3,
        "start_time": "2022-12-30T03:49:31.609Z"
      },
      {
        "duration": 13,
        "start_time": "2022-12-30T03:49:51.336Z"
      },
      {
        "duration": 394,
        "start_time": "2022-12-30T03:50:10.508Z"
      },
      {
        "duration": 41,
        "start_time": "2022-12-30T03:50:10.904Z"
      },
      {
        "duration": 22,
        "start_time": "2022-12-30T03:50:10.946Z"
      },
      {
        "duration": 11,
        "start_time": "2022-12-30T03:50:10.969Z"
      },
      {
        "duration": 3,
        "start_time": "2022-12-30T03:50:10.982Z"
      },
      {
        "duration": 13,
        "start_time": "2022-12-30T03:50:30.608Z"
      },
      {
        "duration": 4,
        "start_time": "2022-12-30T03:55:18.248Z"
      },
      {
        "duration": 412,
        "start_time": "2022-12-30T03:57:10.787Z"
      },
      {
        "duration": 40,
        "start_time": "2022-12-30T03:57:11.201Z"
      },
      {
        "duration": 21,
        "start_time": "2022-12-30T03:57:11.243Z"
      },
      {
        "duration": 11,
        "start_time": "2022-12-30T03:57:11.265Z"
      },
      {
        "duration": 2,
        "start_time": "2022-12-30T03:57:11.278Z"
      },
      {
        "duration": 6,
        "start_time": "2022-12-30T03:57:11.282Z"
      },
      {
        "duration": 13,
        "start_time": "2022-12-30T03:57:11.290Z"
      },
      {
        "duration": 9,
        "start_time": "2022-12-30T04:01:44.499Z"
      },
      {
        "duration": 5,
        "start_time": "2022-12-30T04:07:11.046Z"
      },
      {
        "duration": 7,
        "start_time": "2022-12-30T04:08:35.059Z"
      },
      {
        "duration": 11,
        "start_time": "2022-12-30T04:10:46.955Z"
      },
      {
        "duration": 13,
        "start_time": "2022-12-30T04:12:08.107Z"
      },
      {
        "duration": 8,
        "start_time": "2022-12-30T04:20:08.666Z"
      },
      {
        "duration": 1011,
        "start_time": "2022-12-30T04:59:06.719Z"
      },
      {
        "duration": 40,
        "start_time": "2022-12-30T04:59:07.732Z"
      },
      {
        "duration": 23,
        "start_time": "2022-12-30T04:59:07.774Z"
      },
      {
        "duration": 11,
        "start_time": "2022-12-30T04:59:07.798Z"
      },
      {
        "duration": 3,
        "start_time": "2022-12-30T04:59:07.811Z"
      },
      {
        "duration": 7,
        "start_time": "2022-12-30T04:59:07.815Z"
      },
      {
        "duration": 14,
        "start_time": "2022-12-30T04:59:07.823Z"
      },
      {
        "duration": 7,
        "start_time": "2022-12-30T04:59:07.838Z"
      },
      {
        "duration": 4,
        "start_time": "2022-12-30T04:59:07.847Z"
      },
      {
        "duration": 8,
        "start_time": "2022-12-30T04:59:07.852Z"
      },
      {
        "duration": 21,
        "start_time": "2022-12-30T04:59:07.861Z"
      },
      {
        "duration": 10,
        "start_time": "2022-12-30T04:59:07.883Z"
      },
      {
        "duration": 6,
        "start_time": "2022-12-30T04:59:07.912Z"
      },
      {
        "duration": 5,
        "start_time": "2022-12-30T04:59:07.920Z"
      },
      {
        "duration": 93,
        "start_time": "2022-12-30T04:59:44.952Z"
      },
      {
        "duration": 4,
        "start_time": "2022-12-30T05:00:09.671Z"
      },
      {
        "duration": 3,
        "start_time": "2022-12-30T05:06:06.000Z"
      },
      {
        "duration": 27,
        "start_time": "2022-12-30T05:09:47.840Z"
      },
      {
        "duration": 3,
        "start_time": "2022-12-30T05:10:11.282Z"
      },
      {
        "duration": 22,
        "start_time": "2022-12-30T05:10:17.000Z"
      },
      {
        "duration": 33,
        "start_time": "2022-12-30T05:11:38.012Z"
      },
      {
        "duration": 3,
        "start_time": "2022-12-30T05:11:46.314Z"
      },
      {
        "duration": 29,
        "start_time": "2022-12-30T05:11:51.713Z"
      },
      {
        "duration": 21,
        "start_time": "2022-12-30T05:11:55.652Z"
      },
      {
        "duration": 3,
        "start_time": "2022-12-30T05:12:01.934Z"
      },
      {
        "duration": 33,
        "start_time": "2022-12-30T05:12:07.053Z"
      },
      {
        "duration": 1057,
        "start_time": "2022-12-30T05:13:03.943Z"
      },
      {
        "duration": 54,
        "start_time": "2022-12-30T05:13:05.003Z"
      },
      {
        "duration": 25,
        "start_time": "2022-12-30T05:13:05.060Z"
      },
      {
        "duration": 20,
        "start_time": "2022-12-30T05:13:05.088Z"
      },
      {
        "duration": 4,
        "start_time": "2022-12-30T05:13:05.111Z"
      },
      {
        "duration": 32,
        "start_time": "2022-12-30T05:13:05.116Z"
      },
      {
        "duration": 21,
        "start_time": "2022-12-30T05:13:05.150Z"
      },
      {
        "duration": 13,
        "start_time": "2022-12-30T05:13:05.173Z"
      },
      {
        "duration": 7,
        "start_time": "2022-12-30T05:13:05.189Z"
      },
      {
        "duration": 10,
        "start_time": "2022-12-30T05:13:05.198Z"
      },
      {
        "duration": 33,
        "start_time": "2022-12-30T05:13:05.210Z"
      },
      {
        "duration": 13,
        "start_time": "2022-12-30T05:13:05.245Z"
      },
      {
        "duration": 7,
        "start_time": "2022-12-30T05:13:05.259Z"
      },
      {
        "duration": 7,
        "start_time": "2022-12-30T05:13:05.268Z"
      },
      {
        "duration": 26,
        "start_time": "2022-12-30T05:13:05.277Z"
      },
      {
        "duration": 48,
        "start_time": "2022-12-30T05:17:17.296Z"
      },
      {
        "duration": 949,
        "start_time": "2022-12-30T05:27:16.242Z"
      },
      {
        "duration": 18,
        "start_time": "2022-12-30T05:27:42.625Z"
      },
      {
        "duration": 16,
        "start_time": "2022-12-30T05:31:44.591Z"
      },
      {
        "duration": 4,
        "start_time": "2022-12-30T05:33:46.495Z"
      },
      {
        "duration": 168,
        "start_time": "2022-12-30T05:33:58.734Z"
      },
      {
        "duration": 6166,
        "start_time": "2022-12-30T05:37:29.034Z"
      },
      {
        "duration": 2003,
        "start_time": "2022-12-30T05:38:17.682Z"
      },
      {
        "duration": 10348,
        "start_time": "2022-12-30T05:38:27.134Z"
      },
      {
        "duration": 43,
        "start_time": "2022-12-30T05:46:50.875Z"
      },
      {
        "duration": 22,
        "start_time": "2022-12-30T05:47:29.146Z"
      },
      {
        "duration": 1008,
        "start_time": "2022-12-30T05:47:54.962Z"
      },
      {
        "duration": 42,
        "start_time": "2022-12-30T05:47:55.972Z"
      },
      {
        "duration": 25,
        "start_time": "2022-12-30T05:47:56.016Z"
      },
      {
        "duration": 12,
        "start_time": "2022-12-30T05:47:56.043Z"
      },
      {
        "duration": 3,
        "start_time": "2022-12-30T05:47:56.057Z"
      },
      {
        "duration": 7,
        "start_time": "2022-12-30T05:47:56.061Z"
      },
      {
        "duration": 12,
        "start_time": "2022-12-30T05:47:56.070Z"
      },
      {
        "duration": 30,
        "start_time": "2022-12-30T05:47:56.083Z"
      },
      {
        "duration": 4,
        "start_time": "2022-12-30T05:47:56.115Z"
      },
      {
        "duration": 8,
        "start_time": "2022-12-30T05:47:56.120Z"
      },
      {
        "duration": 16,
        "start_time": "2022-12-30T05:47:56.129Z"
      },
      {
        "duration": 9,
        "start_time": "2022-12-30T05:47:56.147Z"
      },
      {
        "duration": 10,
        "start_time": "2022-12-30T05:47:56.158Z"
      },
      {
        "duration": 6,
        "start_time": "2022-12-30T05:47:56.170Z"
      },
      {
        "duration": 48,
        "start_time": "2022-12-30T05:47:56.178Z"
      },
      {
        "duration": 196,
        "start_time": "2022-12-30T05:47:56.228Z"
      },
      {
        "duration": 9836,
        "start_time": "2022-12-30T05:47:56.427Z"
      },
      {
        "duration": 49,
        "start_time": "2022-12-30T05:48:06.265Z"
      },
      {
        "duration": 101,
        "start_time": "2022-12-30T05:48:06.315Z"
      },
      {
        "duration": 924,
        "start_time": "2022-12-30T05:51:31.394Z"
      },
      {
        "duration": 102,
        "start_time": "2022-12-30T05:52:11.060Z"
      },
      {
        "duration": 11,
        "start_time": "2022-12-30T05:52:15.579Z"
      },
      {
        "duration": 2380,
        "start_time": "2022-12-30T05:52:23.432Z"
      },
      {
        "duration": 204,
        "start_time": "2022-12-30T05:57:13.912Z"
      },
      {
        "duration": 1112,
        "start_time": "2022-12-30T05:58:05.965Z"
      },
      {
        "duration": 46,
        "start_time": "2022-12-30T05:58:07.079Z"
      },
      {
        "duration": 34,
        "start_time": "2022-12-30T05:58:07.127Z"
      },
      {
        "duration": 14,
        "start_time": "2022-12-30T05:58:07.163Z"
      },
      {
        "duration": 3,
        "start_time": "2022-12-30T05:58:07.179Z"
      },
      {
        "duration": 30,
        "start_time": "2022-12-30T05:58:07.183Z"
      },
      {
        "duration": 14,
        "start_time": "2022-12-30T05:58:07.215Z"
      },
      {
        "duration": 9,
        "start_time": "2022-12-30T05:58:07.231Z"
      },
      {
        "duration": 5,
        "start_time": "2022-12-30T05:58:07.242Z"
      },
      {
        "duration": 7,
        "start_time": "2022-12-30T05:58:07.248Z"
      },
      {
        "duration": 11,
        "start_time": "2022-12-30T05:58:07.257Z"
      },
      {
        "duration": 53,
        "start_time": "2022-12-30T05:58:07.270Z"
      },
      {
        "duration": 13,
        "start_time": "2022-12-30T05:58:07.325Z"
      },
      {
        "duration": 6,
        "start_time": "2022-12-30T05:58:07.341Z"
      },
      {
        "duration": 25,
        "start_time": "2022-12-30T05:58:07.348Z"
      },
      {
        "duration": 198,
        "start_time": "2022-12-30T05:58:07.374Z"
      },
      {
        "duration": 10641,
        "start_time": "2022-12-30T05:58:07.574Z"
      },
      {
        "duration": 682,
        "start_time": "2022-12-30T05:58:18.217Z"
      },
      {
        "duration": 0,
        "start_time": "2022-12-30T05:58:18.901Z"
      },
      {
        "duration": 142,
        "start_time": "2022-12-30T05:58:54.772Z"
      },
      {
        "duration": 120,
        "start_time": "2022-12-30T05:59:12.394Z"
      },
      {
        "duration": 10,
        "start_time": "2022-12-30T06:00:38.112Z"
      },
      {
        "duration": 43,
        "start_time": "2022-12-30T06:01:45.173Z"
      },
      {
        "duration": 60,
        "start_time": "2022-12-30T06:02:02.080Z"
      },
      {
        "duration": 59,
        "start_time": "2022-12-30T06:02:23.292Z"
      },
      {
        "duration": 51,
        "start_time": "2022-12-30T06:03:14.836Z"
      },
      {
        "duration": 49,
        "start_time": "2022-12-30T06:03:24.612Z"
      },
      {
        "duration": 151,
        "start_time": "2022-12-30T06:03:43.138Z"
      },
      {
        "duration": 103,
        "start_time": "2022-12-30T06:05:06.311Z"
      },
      {
        "duration": 17,
        "start_time": "2022-12-30T06:08:49.645Z"
      },
      {
        "duration": 315,
        "start_time": "2022-12-30T06:10:09.711Z"
      },
      {
        "duration": 4,
        "start_time": "2022-12-30T06:10:46.318Z"
      },
      {
        "duration": 309,
        "start_time": "2022-12-30T06:10:53.211Z"
      },
      {
        "duration": 4,
        "start_time": "2022-12-30T06:11:06.098Z"
      },
      {
        "duration": 1106,
        "start_time": "2022-12-30T06:11:11.737Z"
      },
      {
        "duration": 45,
        "start_time": "2022-12-30T06:11:12.845Z"
      },
      {
        "duration": 28,
        "start_time": "2022-12-30T06:11:12.892Z"
      },
      {
        "duration": 21,
        "start_time": "2022-12-30T06:11:12.922Z"
      },
      {
        "duration": 5,
        "start_time": "2022-12-30T06:11:12.945Z"
      },
      {
        "duration": 7,
        "start_time": "2022-12-30T06:11:12.951Z"
      },
      {
        "duration": 13,
        "start_time": "2022-12-30T06:11:12.960Z"
      },
      {
        "duration": 9,
        "start_time": "2022-12-30T06:11:12.974Z"
      },
      {
        "duration": 4,
        "start_time": "2022-12-30T06:11:12.985Z"
      },
      {
        "duration": 5,
        "start_time": "2022-12-30T06:11:13.011Z"
      },
      {
        "duration": 15,
        "start_time": "2022-12-30T06:11:13.019Z"
      },
      {
        "duration": 24,
        "start_time": "2022-12-30T06:11:13.037Z"
      },
      {
        "duration": 9,
        "start_time": "2022-12-30T06:11:13.063Z"
      },
      {
        "duration": 7,
        "start_time": "2022-12-30T06:11:13.074Z"
      },
      {
        "duration": 56,
        "start_time": "2022-12-30T06:11:13.083Z"
      },
      {
        "duration": 219,
        "start_time": "2022-12-30T06:11:13.141Z"
      },
      {
        "duration": 10852,
        "start_time": "2022-12-30T06:11:13.362Z"
      },
      {
        "duration": 28,
        "start_time": "2022-12-30T06:11:24.217Z"
      },
      {
        "duration": 95,
        "start_time": "2022-12-30T06:11:24.247Z"
      },
      {
        "duration": 6,
        "start_time": "2022-12-30T06:13:58.570Z"
      },
      {
        "duration": 51,
        "start_time": "2022-12-30T06:15:50.269Z"
      },
      {
        "duration": 17,
        "start_time": "2022-12-30T06:20:09.009Z"
      },
      {
        "duration": 21,
        "start_time": "2022-12-30T06:25:04.817Z"
      },
      {
        "duration": 20,
        "start_time": "2022-12-30T06:32:16.634Z"
      },
      {
        "duration": 13,
        "start_time": "2022-12-30T06:32:48.780Z"
      },
      {
        "duration": 29,
        "start_time": "2022-12-30T06:34:53.036Z"
      },
      {
        "duration": 1113,
        "start_time": "2022-12-30T06:34:57.848Z"
      },
      {
        "duration": 43,
        "start_time": "2022-12-30T06:34:58.964Z"
      },
      {
        "duration": 25,
        "start_time": "2022-12-30T06:34:59.009Z"
      },
      {
        "duration": 11,
        "start_time": "2022-12-30T06:34:59.036Z"
      },
      {
        "duration": 8,
        "start_time": "2022-12-30T06:34:59.049Z"
      },
      {
        "duration": 7,
        "start_time": "2022-12-30T06:34:59.058Z"
      },
      {
        "duration": 18,
        "start_time": "2022-12-30T06:34:59.067Z"
      },
      {
        "duration": 9,
        "start_time": "2022-12-30T06:34:59.086Z"
      },
      {
        "duration": 4,
        "start_time": "2022-12-30T06:34:59.114Z"
      },
      {
        "duration": 13,
        "start_time": "2022-12-30T06:34:59.121Z"
      },
      {
        "duration": 12,
        "start_time": "2022-12-30T06:34:59.135Z"
      },
      {
        "duration": 11,
        "start_time": "2022-12-30T06:34:59.148Z"
      },
      {
        "duration": 13,
        "start_time": "2022-12-30T06:34:59.161Z"
      },
      {
        "duration": 5,
        "start_time": "2022-12-30T06:34:59.175Z"
      },
      {
        "duration": 53,
        "start_time": "2022-12-30T06:34:59.181Z"
      },
      {
        "duration": 31,
        "start_time": "2022-12-30T06:34:59.235Z"
      },
      {
        "duration": 18,
        "start_time": "2022-12-30T06:34:59.269Z"
      },
      {
        "duration": 28,
        "start_time": "2022-12-30T06:34:59.289Z"
      },
      {
        "duration": 232,
        "start_time": "2022-12-30T06:34:59.319Z"
      },
      {
        "duration": 10387,
        "start_time": "2022-12-30T06:34:59.553Z"
      },
      {
        "duration": 81,
        "start_time": "2022-12-30T06:35:09.941Z"
      },
      {
        "duration": 113,
        "start_time": "2022-12-30T07:59:21.107Z"
      },
      {
        "duration": 23,
        "start_time": "2022-12-30T07:59:52.768Z"
      },
      {
        "duration": 1237,
        "start_time": "2022-12-30T08:00:28.135Z"
      },
      {
        "duration": 53,
        "start_time": "2022-12-30T08:00:29.375Z"
      },
      {
        "duration": 30,
        "start_time": "2022-12-30T08:00:29.430Z"
      },
      {
        "duration": 24,
        "start_time": "2022-12-30T08:00:29.463Z"
      },
      {
        "duration": 8,
        "start_time": "2022-12-30T08:00:29.490Z"
      },
      {
        "duration": 17,
        "start_time": "2022-12-30T08:00:29.500Z"
      },
      {
        "duration": 46,
        "start_time": "2022-12-30T08:00:29.519Z"
      },
      {
        "duration": 20,
        "start_time": "2022-12-30T08:00:29.568Z"
      },
      {
        "duration": 22,
        "start_time": "2022-12-30T08:00:29.589Z"
      },
      {
        "duration": 43,
        "start_time": "2022-12-30T08:00:29.614Z"
      },
      {
        "duration": 48,
        "start_time": "2022-12-30T08:00:29.659Z"
      },
      {
        "duration": 41,
        "start_time": "2022-12-30T08:00:29.709Z"
      },
      {
        "duration": 36,
        "start_time": "2022-12-30T08:00:29.751Z"
      },
      {
        "duration": 47,
        "start_time": "2022-12-30T08:00:29.789Z"
      },
      {
        "duration": 16,
        "start_time": "2022-12-30T08:00:29.838Z"
      },
      {
        "duration": 60,
        "start_time": "2022-12-30T08:00:29.856Z"
      },
      {
        "duration": 12,
        "start_time": "2022-12-30T08:00:29.918Z"
      },
      {
        "duration": 27,
        "start_time": "2022-12-30T08:00:29.932Z"
      },
      {
        "duration": 151,
        "start_time": "2022-12-30T08:00:29.961Z"
      },
      {
        "duration": 0,
        "start_time": "2022-12-30T08:00:30.113Z"
      },
      {
        "duration": 0,
        "start_time": "2022-12-30T08:00:30.115Z"
      },
      {
        "duration": 21,
        "start_time": "2022-12-30T08:01:52.906Z"
      },
      {
        "duration": 199,
        "start_time": "2022-12-30T08:02:20.176Z"
      },
      {
        "duration": 973,
        "start_time": "2022-12-30T08:03:32.286Z"
      },
      {
        "duration": 981,
        "start_time": "2022-12-30T08:05:57.566Z"
      },
      {
        "duration": 978,
        "start_time": "2022-12-30T08:06:26.292Z"
      },
      {
        "duration": 986,
        "start_time": "2022-12-30T08:06:50.505Z"
      },
      {
        "duration": 970,
        "start_time": "2022-12-30T08:06:58.146Z"
      },
      {
        "duration": 937,
        "start_time": "2022-12-30T08:07:16.966Z"
      },
      {
        "duration": 987,
        "start_time": "2022-12-30T08:08:26.846Z"
      },
      {
        "duration": 1002,
        "start_time": "2022-12-30T08:08:53.386Z"
      },
      {
        "duration": 229,
        "start_time": "2022-12-30T08:10:32.505Z"
      },
      {
        "duration": 570,
        "start_time": "2022-12-30T08:10:43.806Z"
      },
      {
        "duration": 10617,
        "start_time": "2022-12-30T08:10:55.191Z"
      },
      {
        "duration": 151358,
        "start_time": "2022-12-30T08:14:24.910Z"
      },
      {
        "duration": 52398,
        "start_time": "2022-12-30T08:19:00.110Z"
      },
      {
        "duration": 50958,
        "start_time": "2022-12-30T08:21:54.721Z"
      },
      {
        "duration": 145,
        "start_time": "2022-12-30T08:22:45.681Z"
      },
      {
        "duration": 4271,
        "start_time": "2022-12-30T08:25:27.199Z"
      },
      {
        "duration": 5194,
        "start_time": "2022-12-30T08:25:47.779Z"
      },
      {
        "duration": 50263,
        "start_time": "2022-12-30T08:31:49.392Z"
      },
      {
        "duration": 50944,
        "start_time": "2022-12-30T08:33:29.298Z"
      },
      {
        "duration": 25017,
        "start_time": "2022-12-30T08:35:17.020Z"
      },
      {
        "duration": 29638,
        "start_time": "2022-12-30T08:36:38.039Z"
      },
      {
        "duration": 25373,
        "start_time": "2022-12-30T08:38:21.549Z"
      },
      {
        "duration": 19900,
        "start_time": "2022-12-30T08:39:12.089Z"
      },
      {
        "duration": 580,
        "start_time": "2022-12-30T09:12:15.644Z"
      },
      {
        "duration": 91,
        "start_time": "2022-12-30T09:15:55.124Z"
      },
      {
        "duration": 20211,
        "start_time": "2022-12-30T09:17:23.084Z"
      },
      {
        "duration": 4,
        "start_time": "2022-12-30T09:24:52.704Z"
      },
      {
        "duration": 17,
        "start_time": "2022-12-30T09:29:14.746Z"
      },
      {
        "duration": 5,
        "start_time": "2022-12-30T09:30:12.840Z"
      },
      {
        "duration": 10,
        "start_time": "2022-12-30T09:30:19.444Z"
      },
      {
        "duration": 4,
        "start_time": "2022-12-30T09:30:22.552Z"
      },
      {
        "duration": 9,
        "start_time": "2022-12-30T09:30:23.191Z"
      },
      {
        "duration": 11,
        "start_time": "2022-12-30T09:36:17.083Z"
      },
      {
        "duration": 12,
        "start_time": "2022-12-30T09:36:31.071Z"
      },
      {
        "duration": 784,
        "start_time": "2022-12-30T09:36:34.083Z"
      },
      {
        "duration": 29220,
        "start_time": "2022-12-30T09:40:21.845Z"
      },
      {
        "duration": 45,
        "start_time": "2022-12-30T09:43:07.723Z"
      },
      {
        "duration": 4,
        "start_time": "2022-12-30T09:49:28.243Z"
      },
      {
        "duration": 11,
        "start_time": "2022-12-30T09:58:22.706Z"
      },
      {
        "duration": 12,
        "start_time": "2022-12-30T09:59:02.682Z"
      },
      {
        "duration": 37,
        "start_time": "2022-12-30T09:59:29.884Z"
      },
      {
        "duration": 11,
        "start_time": "2022-12-30T10:02:48.864Z"
      },
      {
        "duration": 41,
        "start_time": "2022-12-30T10:03:02.231Z"
      },
      {
        "duration": 6,
        "start_time": "2022-12-30T10:08:53.384Z"
      },
      {
        "duration": 5,
        "start_time": "2022-12-30T10:09:27.435Z"
      },
      {
        "duration": 5,
        "start_time": "2022-12-30T10:09:45.703Z"
      },
      {
        "duration": 1058,
        "start_time": "2022-12-30T10:12:23.725Z"
      },
      {
        "duration": 43,
        "start_time": "2022-12-30T10:12:24.785Z"
      },
      {
        "duration": 24,
        "start_time": "2022-12-30T10:12:24.829Z"
      },
      {
        "duration": 12,
        "start_time": "2022-12-30T10:12:24.855Z"
      },
      {
        "duration": 3,
        "start_time": "2022-12-30T10:12:24.869Z"
      },
      {
        "duration": 22,
        "start_time": "2022-12-30T10:12:24.874Z"
      },
      {
        "duration": 22,
        "start_time": "2022-12-30T10:12:24.898Z"
      },
      {
        "duration": 14,
        "start_time": "2022-12-30T10:12:24.922Z"
      },
      {
        "duration": 5,
        "start_time": "2022-12-30T10:12:24.938Z"
      },
      {
        "duration": 10,
        "start_time": "2022-12-30T10:12:24.945Z"
      },
      {
        "duration": 12,
        "start_time": "2022-12-30T10:12:24.957Z"
      },
      {
        "duration": 15,
        "start_time": "2022-12-30T10:12:24.971Z"
      },
      {
        "duration": 31,
        "start_time": "2022-12-30T10:12:24.988Z"
      },
      {
        "duration": 5,
        "start_time": "2022-12-30T10:12:25.022Z"
      },
      {
        "duration": 9,
        "start_time": "2022-12-30T10:12:25.029Z"
      },
      {
        "duration": 114,
        "start_time": "2022-12-30T10:12:25.040Z"
      },
      {
        "duration": 0,
        "start_time": "2022-12-30T10:12:25.156Z"
      },
      {
        "duration": 0,
        "start_time": "2022-12-30T10:12:25.157Z"
      },
      {
        "duration": 0,
        "start_time": "2022-12-30T10:12:25.158Z"
      },
      {
        "duration": 0,
        "start_time": "2022-12-30T10:12:25.159Z"
      },
      {
        "duration": 0,
        "start_time": "2022-12-30T10:12:25.160Z"
      },
      {
        "duration": 0,
        "start_time": "2022-12-30T10:12:25.161Z"
      },
      {
        "duration": 0,
        "start_time": "2022-12-30T10:12:25.163Z"
      },
      {
        "duration": 0,
        "start_time": "2022-12-30T10:12:25.164Z"
      },
      {
        "duration": 0,
        "start_time": "2022-12-30T10:12:25.165Z"
      },
      {
        "duration": 0,
        "start_time": "2022-12-30T10:12:25.166Z"
      },
      {
        "duration": 0,
        "start_time": "2022-12-30T10:12:25.167Z"
      },
      {
        "duration": 0,
        "start_time": "2022-12-30T10:12:25.169Z"
      },
      {
        "duration": 0,
        "start_time": "2022-12-30T10:12:25.169Z"
      },
      {
        "duration": 0,
        "start_time": "2022-12-30T10:12:25.170Z"
      },
      {
        "duration": 0,
        "start_time": "2022-12-30T10:12:25.171Z"
      },
      {
        "duration": 9,
        "start_time": "2022-12-30T10:12:55.907Z"
      },
      {
        "duration": 10,
        "start_time": "2022-12-30T10:15:09.326Z"
      },
      {
        "duration": 12,
        "start_time": "2022-12-30T10:15:10.353Z"
      },
      {
        "duration": 4,
        "start_time": "2022-12-30T10:16:51.585Z"
      },
      {
        "duration": 5,
        "start_time": "2022-12-30T10:17:16.331Z"
      },
      {
        "duration": 7,
        "start_time": "2022-12-30T10:19:32.973Z"
      },
      {
        "duration": 5,
        "start_time": "2022-12-30T10:19:34.191Z"
      },
      {
        "duration": 9,
        "start_time": "2022-12-30T10:19:35.225Z"
      },
      {
        "duration": 8,
        "start_time": "2022-12-30T10:20:57.206Z"
      },
      {
        "duration": 5,
        "start_time": "2022-12-30T10:20:58.073Z"
      },
      {
        "duration": 12,
        "start_time": "2022-12-30T10:20:59.190Z"
      },
      {
        "duration": 8,
        "start_time": "2022-12-30T10:22:43.914Z"
      },
      {
        "duration": 4,
        "start_time": "2022-12-30T10:22:44.586Z"
      },
      {
        "duration": 6,
        "start_time": "2022-12-30T10:22:45.445Z"
      },
      {
        "duration": 1033,
        "start_time": "2022-12-30T10:23:06.547Z"
      },
      {
        "duration": 42,
        "start_time": "2022-12-30T10:23:07.581Z"
      },
      {
        "duration": 23,
        "start_time": "2022-12-30T10:23:07.625Z"
      },
      {
        "duration": 11,
        "start_time": "2022-12-30T10:23:07.650Z"
      },
      {
        "duration": 6,
        "start_time": "2022-12-30T10:23:07.663Z"
      },
      {
        "duration": 9,
        "start_time": "2022-12-30T10:23:07.672Z"
      },
      {
        "duration": 22,
        "start_time": "2022-12-30T10:23:07.683Z"
      },
      {
        "duration": 11,
        "start_time": "2022-12-30T10:23:07.712Z"
      },
      {
        "duration": 5,
        "start_time": "2022-12-30T10:23:07.725Z"
      },
      {
        "duration": 6,
        "start_time": "2022-12-30T10:23:07.732Z"
      },
      {
        "duration": 12,
        "start_time": "2022-12-30T10:23:07.739Z"
      },
      {
        "duration": 17,
        "start_time": "2022-12-30T10:23:07.753Z"
      },
      {
        "duration": 9,
        "start_time": "2022-12-30T10:23:07.772Z"
      },
      {
        "duration": 28,
        "start_time": "2022-12-30T10:23:07.784Z"
      },
      {
        "duration": 6,
        "start_time": "2022-12-30T10:23:07.814Z"
      },
      {
        "duration": 105,
        "start_time": "2022-12-30T10:23:07.822Z"
      },
      {
        "duration": 0,
        "start_time": "2022-12-30T10:23:07.928Z"
      },
      {
        "duration": 0,
        "start_time": "2022-12-30T10:23:07.930Z"
      },
      {
        "duration": 0,
        "start_time": "2022-12-30T10:23:07.931Z"
      },
      {
        "duration": 0,
        "start_time": "2022-12-30T10:23:07.932Z"
      },
      {
        "duration": 0,
        "start_time": "2022-12-30T10:23:07.933Z"
      },
      {
        "duration": 0,
        "start_time": "2022-12-30T10:23:07.934Z"
      },
      {
        "duration": 0,
        "start_time": "2022-12-30T10:23:07.935Z"
      },
      {
        "duration": 0,
        "start_time": "2022-12-30T10:23:07.936Z"
      },
      {
        "duration": 0,
        "start_time": "2022-12-30T10:23:07.937Z"
      },
      {
        "duration": 0,
        "start_time": "2022-12-30T10:23:07.938Z"
      },
      {
        "duration": 0,
        "start_time": "2022-12-30T10:23:07.939Z"
      },
      {
        "duration": 0,
        "start_time": "2022-12-30T10:23:07.940Z"
      },
      {
        "duration": 0,
        "start_time": "2022-12-30T10:23:07.941Z"
      },
      {
        "duration": 0,
        "start_time": "2022-12-30T10:23:07.942Z"
      },
      {
        "duration": 0,
        "start_time": "2022-12-30T10:23:07.943Z"
      },
      {
        "duration": 0,
        "start_time": "2022-12-30T10:23:07.944Z"
      },
      {
        "duration": 6,
        "start_time": "2022-12-30T10:35:59.885Z"
      },
      {
        "duration": 1114,
        "start_time": "2022-12-30T10:36:13.583Z"
      },
      {
        "duration": 43,
        "start_time": "2022-12-30T10:36:14.699Z"
      },
      {
        "duration": 24,
        "start_time": "2022-12-30T10:36:14.744Z"
      },
      {
        "duration": 24,
        "start_time": "2022-12-30T10:36:14.769Z"
      },
      {
        "duration": 3,
        "start_time": "2022-12-30T10:36:14.796Z"
      },
      {
        "duration": 10,
        "start_time": "2022-12-30T10:36:14.801Z"
      },
      {
        "duration": 25,
        "start_time": "2022-12-30T10:36:14.813Z"
      },
      {
        "duration": 11,
        "start_time": "2022-12-30T10:36:14.840Z"
      },
      {
        "duration": 5,
        "start_time": "2022-12-30T10:36:14.852Z"
      },
      {
        "duration": 9,
        "start_time": "2022-12-30T10:36:14.858Z"
      },
      {
        "duration": 14,
        "start_time": "2022-12-30T10:36:14.869Z"
      },
      {
        "duration": 28,
        "start_time": "2022-12-30T10:36:14.884Z"
      },
      {
        "duration": 8,
        "start_time": "2022-12-30T10:36:14.914Z"
      },
      {
        "duration": 9,
        "start_time": "2022-12-30T10:36:14.925Z"
      },
      {
        "duration": 12,
        "start_time": "2022-12-30T10:36:14.936Z"
      },
      {
        "duration": 6,
        "start_time": "2022-12-30T10:36:14.949Z"
      },
      {
        "duration": 28,
        "start_time": "2022-12-30T10:36:14.956Z"
      },
      {
        "duration": 31,
        "start_time": "2022-12-30T10:36:14.985Z"
      },
      {
        "duration": 13,
        "start_time": "2022-12-30T10:36:15.018Z"
      },
      {
        "duration": 490,
        "start_time": "2022-12-30T10:36:15.032Z"
      },
      {
        "duration": 16198,
        "start_time": "2022-12-30T10:36:15.523Z"
      },
      {
        "duration": 93,
        "start_time": "2022-12-30T10:36:31.722Z"
      },
      {
        "duration": 563,
        "start_time": "2022-12-30T10:36:31.825Z"
      },
      {
        "duration": 16164,
        "start_time": "2022-12-30T10:36:32.390Z"
      },
      {
        "duration": 61,
        "start_time": "2022-12-30T10:36:48.555Z"
      },
      {
        "duration": 6,
        "start_time": "2022-12-30T10:36:48.619Z"
      },
      {
        "duration": 96,
        "start_time": "2022-12-30T10:36:48.627Z"
      },
      {
        "duration": 618,
        "start_time": "2022-12-30T10:36:48.725Z"
      },
      {
        "duration": 21946,
        "start_time": "2022-12-30T10:36:49.345Z"
      },
      {
        "duration": 35,
        "start_time": "2022-12-30T10:37:11.292Z"
      },
      {
        "duration": 297,
        "start_time": "2022-12-30T10:37:11.329Z"
      },
      {
        "duration": 349,
        "start_time": "2022-12-30T10:50:30.003Z"
      },
      {
        "duration": 363,
        "start_time": "2022-12-30T10:53:27.567Z"
      },
      {
        "duration": 328,
        "start_time": "2022-12-30T11:22:10.612Z"
      },
      {
        "duration": 107,
        "start_time": "2022-12-30T11:24:17.561Z"
      },
      {
        "duration": 221,
        "start_time": "2022-12-30T11:25:17.352Z"
      },
      {
        "duration": 316,
        "start_time": "2022-12-30T11:27:04.321Z"
      },
      {
        "duration": 405,
        "start_time": "2022-12-30T11:28:20.761Z"
      },
      {
        "duration": 210,
        "start_time": "2022-12-30T11:30:00.641Z"
      },
      {
        "duration": 27,
        "start_time": "2022-12-30T11:34:22.942Z"
      },
      {
        "duration": 228,
        "start_time": "2022-12-30T11:34:42.322Z"
      },
      {
        "duration": 334,
        "start_time": "2022-12-30T11:35:02.023Z"
      },
      {
        "duration": 1108,
        "start_time": "2022-12-30T11:35:19.779Z"
      },
      {
        "duration": 42,
        "start_time": "2022-12-30T11:35:20.889Z"
      },
      {
        "duration": 27,
        "start_time": "2022-12-30T11:35:20.933Z"
      },
      {
        "duration": 11,
        "start_time": "2022-12-30T11:35:20.962Z"
      },
      {
        "duration": 10,
        "start_time": "2022-12-30T11:35:20.975Z"
      },
      {
        "duration": 28,
        "start_time": "2022-12-30T11:35:20.987Z"
      },
      {
        "duration": 36,
        "start_time": "2022-12-30T11:35:21.016Z"
      },
      {
        "duration": 18,
        "start_time": "2022-12-30T11:35:21.054Z"
      },
      {
        "duration": 19,
        "start_time": "2022-12-30T11:35:21.074Z"
      },
      {
        "duration": 10,
        "start_time": "2022-12-30T11:35:21.096Z"
      },
      {
        "duration": 34,
        "start_time": "2022-12-30T11:35:21.107Z"
      },
      {
        "duration": 26,
        "start_time": "2022-12-30T11:35:21.143Z"
      },
      {
        "duration": 22,
        "start_time": "2022-12-30T11:35:21.171Z"
      },
      {
        "duration": 27,
        "start_time": "2022-12-30T11:35:21.195Z"
      },
      {
        "duration": 22,
        "start_time": "2022-12-30T11:35:21.224Z"
      },
      {
        "duration": 13,
        "start_time": "2022-12-30T11:35:21.247Z"
      },
      {
        "duration": 42,
        "start_time": "2022-12-30T11:35:21.261Z"
      },
      {
        "duration": 14,
        "start_time": "2022-12-30T11:35:21.305Z"
      },
      {
        "duration": 24,
        "start_time": "2022-12-30T11:35:21.321Z"
      },
      {
        "duration": 436,
        "start_time": "2022-12-30T11:35:21.346Z"
      },
      {
        "duration": 15786,
        "start_time": "2022-12-30T11:35:21.783Z"
      },
      {
        "duration": 51,
        "start_time": "2022-12-30T11:35:37.570Z"
      },
      {
        "duration": 551,
        "start_time": "2022-12-30T11:35:37.623Z"
      },
      {
        "duration": 15383,
        "start_time": "2022-12-30T11:35:38.176Z"
      },
      {
        "duration": 63,
        "start_time": "2022-12-30T11:35:53.562Z"
      },
      {
        "duration": 88,
        "start_time": "2022-12-30T11:35:53.627Z"
      },
      {
        "duration": 14,
        "start_time": "2022-12-30T11:35:53.717Z"
      },
      {
        "duration": 771,
        "start_time": "2022-12-30T11:35:53.736Z"
      },
      {
        "duration": 22682,
        "start_time": "2022-12-30T11:35:54.513Z"
      },
      {
        "duration": 42,
        "start_time": "2022-12-30T11:36:17.197Z"
      },
      {
        "duration": 462,
        "start_time": "2022-12-30T11:36:17.242Z"
      },
      {
        "duration": 309,
        "start_time": "2022-12-30T11:37:43.233Z"
      },
      {
        "duration": 307,
        "start_time": "2022-12-30T11:37:49.379Z"
      },
      {
        "duration": 325,
        "start_time": "2022-12-30T11:37:55.102Z"
      },
      {
        "duration": 319,
        "start_time": "2022-12-30T11:38:01.393Z"
      },
      {
        "duration": 325,
        "start_time": "2022-12-30T11:38:28.872Z"
      },
      {
        "duration": 333,
        "start_time": "2022-12-30T11:38:34.515Z"
      },
      {
        "duration": 366,
        "start_time": "2022-12-30T11:38:40.303Z"
      },
      {
        "duration": 357,
        "start_time": "2022-12-30T11:38:46.418Z"
      },
      {
        "duration": 360,
        "start_time": "2022-12-30T11:38:52.564Z"
      },
      {
        "duration": 391,
        "start_time": "2022-12-30T11:38:59.007Z"
      },
      {
        "duration": 392,
        "start_time": "2022-12-30T11:39:04.999Z"
      },
      {
        "duration": 421,
        "start_time": "2022-12-30T11:39:11.679Z"
      },
      {
        "duration": 354,
        "start_time": "2022-12-30T11:40:13.285Z"
      },
      {
        "duration": 427,
        "start_time": "2022-12-30T11:40:23.923Z"
      },
      {
        "duration": 443,
        "start_time": "2022-12-30T11:40:30.590Z"
      },
      {
        "duration": 402,
        "start_time": "2022-12-30T11:40:36.452Z"
      },
      {
        "duration": 382,
        "start_time": "2022-12-30T11:40:40.933Z"
      },
      {
        "duration": 427,
        "start_time": "2022-12-30T11:40:45.071Z"
      },
      {
        "duration": 336,
        "start_time": "2022-12-30T11:40:53.811Z"
      },
      {
        "duration": 302,
        "start_time": "2022-12-30T11:41:00.876Z"
      },
      {
        "duration": 274,
        "start_time": "2022-12-30T11:41:09.655Z"
      },
      {
        "duration": 289,
        "start_time": "2022-12-30T11:41:13.740Z"
      },
      {
        "duration": 453,
        "start_time": "2022-12-30T11:41:19.258Z"
      },
      {
        "duration": 445,
        "start_time": "2022-12-30T11:41:32.076Z"
      },
      {
        "duration": 453,
        "start_time": "2022-12-30T11:41:36.700Z"
      },
      {
        "duration": 425,
        "start_time": "2022-12-30T11:41:41.040Z"
      },
      {
        "duration": 429,
        "start_time": "2022-12-30T11:41:47.274Z"
      },
      {
        "duration": 408,
        "start_time": "2022-12-30T11:41:52.171Z"
      },
      {
        "duration": 393,
        "start_time": "2022-12-30T11:41:57.640Z"
      },
      {
        "duration": 393,
        "start_time": "2022-12-30T11:42:01.360Z"
      },
      {
        "duration": 364,
        "start_time": "2022-12-30T11:42:05.771Z"
      },
      {
        "duration": 21479,
        "start_time": "2022-12-30T11:44:10.931Z"
      },
      {
        "duration": 22147,
        "start_time": "2022-12-30T11:47:36.642Z"
      },
      {
        "duration": 3,
        "start_time": "2022-12-30T11:49:04.075Z"
      },
      {
        "duration": 4,
        "start_time": "2022-12-30T11:50:14.779Z"
      },
      {
        "duration": 164,
        "start_time": "2022-12-30T12:15:10.926Z"
      },
      {
        "duration": 32,
        "start_time": "2022-12-30T12:15:57.293Z"
      },
      {
        "duration": 344,
        "start_time": "2022-12-30T12:16:08.413Z"
      },
      {
        "duration": 30,
        "start_time": "2022-12-30T12:16:15.725Z"
      },
      {
        "duration": 130,
        "start_time": "2022-12-30T12:18:12.915Z"
      },
      {
        "duration": 35,
        "start_time": "2022-12-30T12:22:03.987Z"
      },
      {
        "duration": 7,
        "start_time": "2022-12-30T12:22:04.797Z"
      },
      {
        "duration": 7,
        "start_time": "2022-12-30T12:22:15.842Z"
      },
      {
        "duration": 123,
        "start_time": "2022-12-30T12:32:07.620Z"
      },
      {
        "duration": 42,
        "start_time": "2022-12-30T12:32:31.107Z"
      },
      {
        "duration": 9,
        "start_time": "2022-12-30T12:32:32.439Z"
      },
      {
        "duration": 146,
        "start_time": "2022-12-30T12:32:33.506Z"
      },
      {
        "duration": 17,
        "start_time": "2022-12-30T12:34:28.600Z"
      },
      {
        "duration": 202,
        "start_time": "2022-12-30T12:35:07.590Z"
      },
      {
        "duration": 10,
        "start_time": "2022-12-30T12:36:22.499Z"
      },
      {
        "duration": 7,
        "start_time": "2022-12-30T12:36:23.482Z"
      },
      {
        "duration": 32,
        "start_time": "2022-12-30T12:36:27.339Z"
      },
      {
        "duration": 6,
        "start_time": "2022-12-30T12:36:28.300Z"
      },
      {
        "duration": 127,
        "start_time": "2022-12-30T12:36:32.090Z"
      },
      {
        "duration": 52,
        "start_time": "2022-12-30T12:38:15.419Z"
      },
      {
        "duration": 128,
        "start_time": "2022-12-30T12:38:28.619Z"
      },
      {
        "duration": 161,
        "start_time": "2022-12-30T12:39:02.107Z"
      },
      {
        "duration": 8,
        "start_time": "2022-12-30T12:41:17.837Z"
      },
      {
        "duration": 9,
        "start_time": "2022-12-30T12:41:40.973Z"
      },
      {
        "duration": 6,
        "start_time": "2022-12-30T12:42:07.469Z"
      },
      {
        "duration": 7,
        "start_time": "2022-12-30T12:42:08.044Z"
      },
      {
        "duration": 146,
        "start_time": "2022-12-30T12:42:43.879Z"
      },
      {
        "duration": 8,
        "start_time": "2022-12-30T12:43:14.999Z"
      },
      {
        "duration": 6,
        "start_time": "2022-12-30T12:43:15.739Z"
      },
      {
        "duration": 14,
        "start_time": "2022-12-30T12:43:16.700Z"
      },
      {
        "duration": 7,
        "start_time": "2022-12-30T12:43:17.506Z"
      },
      {
        "duration": 30,
        "start_time": "2022-12-30T12:43:18.399Z"
      },
      {
        "duration": 8,
        "start_time": "2022-12-30T12:43:19.359Z"
      },
      {
        "duration": 147,
        "start_time": "2022-12-30T12:43:20.758Z"
      },
      {
        "duration": 1395,
        "start_time": "2022-12-30T12:44:46.520Z"
      },
      {
        "duration": 42,
        "start_time": "2022-12-30T12:44:47.917Z"
      },
      {
        "duration": 22,
        "start_time": "2022-12-30T12:44:47.961Z"
      },
      {
        "duration": 12,
        "start_time": "2022-12-30T12:44:47.985Z"
      },
      {
        "duration": 4,
        "start_time": "2022-12-30T12:44:48.000Z"
      },
      {
        "duration": 9,
        "start_time": "2022-12-30T12:44:48.005Z"
      },
      {
        "duration": 18,
        "start_time": "2022-12-30T12:44:48.016Z"
      },
      {
        "duration": 12,
        "start_time": "2022-12-30T12:44:48.036Z"
      },
      {
        "duration": 6,
        "start_time": "2022-12-30T12:44:48.050Z"
      },
      {
        "duration": 14,
        "start_time": "2022-12-30T12:44:48.057Z"
      },
      {
        "duration": 40,
        "start_time": "2022-12-30T12:44:48.073Z"
      },
      {
        "duration": 20,
        "start_time": "2022-12-30T12:44:48.115Z"
      },
      {
        "duration": 13,
        "start_time": "2022-12-30T12:44:48.137Z"
      },
      {
        "duration": 5,
        "start_time": "2022-12-30T12:44:48.155Z"
      },
      {
        "duration": 15,
        "start_time": "2022-12-30T12:44:48.162Z"
      },
      {
        "duration": 11,
        "start_time": "2022-12-30T12:44:48.178Z"
      },
      {
        "duration": 55,
        "start_time": "2022-12-30T12:44:48.191Z"
      },
      {
        "duration": 12,
        "start_time": "2022-12-30T12:44:48.247Z"
      },
      {
        "duration": 20,
        "start_time": "2022-12-30T12:44:48.260Z"
      },
      {
        "duration": 484,
        "start_time": "2022-12-30T12:44:48.282Z"
      },
      {
        "duration": 17298,
        "start_time": "2022-12-30T12:44:48.768Z"
      },
      {
        "duration": 52,
        "start_time": "2022-12-30T12:45:06.068Z"
      },
      {
        "duration": 706,
        "start_time": "2022-12-30T12:45:06.122Z"
      },
      {
        "duration": 17142,
        "start_time": "2022-12-30T12:45:06.830Z"
      },
      {
        "duration": 52,
        "start_time": "2022-12-30T12:45:23.974Z"
      },
      {
        "duration": 86,
        "start_time": "2022-12-30T12:45:24.028Z"
      },
      {
        "duration": 15,
        "start_time": "2022-12-30T12:45:24.116Z"
      },
      {
        "duration": 710,
        "start_time": "2022-12-30T12:45:24.133Z"
      },
      {
        "duration": 23003,
        "start_time": "2022-12-30T12:45:24.845Z"
      },
      {
        "duration": 72,
        "start_time": "2022-12-30T12:45:47.849Z"
      },
      {
        "duration": 22474,
        "start_time": "2022-12-30T12:45:48.012Z"
      },
      {
        "duration": 3,
        "start_time": "2022-12-30T12:46:10.488Z"
      },
      {
        "duration": 120,
        "start_time": "2022-12-30T12:46:10.493Z"
      },
      {
        "duration": 0,
        "start_time": "2022-12-30T12:46:10.615Z"
      },
      {
        "duration": 0,
        "start_time": "2022-12-30T12:46:10.616Z"
      },
      {
        "duration": 0,
        "start_time": "2022-12-30T12:46:10.618Z"
      },
      {
        "duration": 0,
        "start_time": "2022-12-30T12:46:10.619Z"
      },
      {
        "duration": 0,
        "start_time": "2022-12-30T12:46:10.621Z"
      },
      {
        "duration": 0,
        "start_time": "2022-12-30T12:46:10.623Z"
      },
      {
        "duration": 8,
        "start_time": "2022-12-30T12:46:59.261Z"
      },
      {
        "duration": 7,
        "start_time": "2022-12-30T12:47:02.260Z"
      },
      {
        "duration": 61,
        "start_time": "2022-12-30T12:47:04.460Z"
      },
      {
        "duration": 7,
        "start_time": "2022-12-30T12:47:16.649Z"
      },
      {
        "duration": 9,
        "start_time": "2022-12-30T12:47:17.742Z"
      },
      {
        "duration": 37,
        "start_time": "2022-12-30T12:47:20.821Z"
      },
      {
        "duration": 7,
        "start_time": "2022-12-30T12:47:22.601Z"
      },
      {
        "duration": 165,
        "start_time": "2022-12-30T12:47:25.362Z"
      },
      {
        "duration": 1379,
        "start_time": "2022-12-30T13:01:34.364Z"
      },
      {
        "duration": 42,
        "start_time": "2022-12-30T13:01:35.745Z"
      },
      {
        "duration": 24,
        "start_time": "2022-12-30T13:01:35.789Z"
      },
      {
        "duration": 17,
        "start_time": "2022-12-30T13:01:35.815Z"
      },
      {
        "duration": 7,
        "start_time": "2022-12-30T13:01:35.834Z"
      },
      {
        "duration": 10,
        "start_time": "2022-12-30T13:01:35.843Z"
      },
      {
        "duration": 29,
        "start_time": "2022-12-30T13:01:35.855Z"
      },
      {
        "duration": 13,
        "start_time": "2022-12-30T13:01:35.886Z"
      },
      {
        "duration": 11,
        "start_time": "2022-12-30T13:01:35.902Z"
      },
      {
        "duration": 16,
        "start_time": "2022-12-30T13:01:35.915Z"
      },
      {
        "duration": 17,
        "start_time": "2022-12-30T13:01:35.933Z"
      },
      {
        "duration": 16,
        "start_time": "2022-12-30T13:01:35.952Z"
      },
      {
        "duration": 10,
        "start_time": "2022-12-30T13:01:35.970Z"
      },
      {
        "duration": 5,
        "start_time": "2022-12-30T13:01:35.983Z"
      },
      {
        "duration": 25,
        "start_time": "2022-12-30T13:01:35.990Z"
      },
      {
        "duration": 6,
        "start_time": "2022-12-30T13:01:36.017Z"
      },
      {
        "duration": 36,
        "start_time": "2022-12-30T13:01:36.025Z"
      },
      {
        "duration": 12,
        "start_time": "2022-12-30T13:01:36.063Z"
      },
      {
        "duration": 45,
        "start_time": "2022-12-30T13:01:36.077Z"
      },
      {
        "duration": 590,
        "start_time": "2022-12-30T13:01:36.124Z"
      },
      {
        "duration": 17135,
        "start_time": "2022-12-30T13:01:36.716Z"
      },
      {
        "duration": 22,
        "start_time": "2022-12-30T13:01:53.853Z"
      },
      {
        "duration": 603,
        "start_time": "2022-12-30T13:01:53.917Z"
      },
      {
        "duration": 17601,
        "start_time": "2022-12-30T13:01:54.522Z"
      },
      {
        "duration": 30,
        "start_time": "2022-12-30T13:02:12.125Z"
      },
      {
        "duration": 5,
        "start_time": "2022-12-30T13:02:12.213Z"
      },
      {
        "duration": 95,
        "start_time": "2022-12-30T13:02:12.220Z"
      },
      {
        "duration": 654,
        "start_time": "2022-12-30T13:02:12.317Z"
      },
      {
        "duration": 23883,
        "start_time": "2022-12-30T13:02:12.972Z"
      },
      {
        "duration": 62,
        "start_time": "2022-12-30T13:02:36.856Z"
      },
      {
        "duration": 24636,
        "start_time": "2022-12-30T13:02:36.919Z"
      },
      {
        "duration": 3,
        "start_time": "2022-12-30T13:03:01.557Z"
      },
      {
        "duration": 35,
        "start_time": "2022-12-30T13:03:01.562Z"
      },
      {
        "duration": 38,
        "start_time": "2022-12-30T13:03:01.598Z"
      },
      {
        "duration": 32,
        "start_time": "2022-12-30T13:03:01.638Z"
      },
      {
        "duration": 149,
        "start_time": "2022-12-30T13:03:01.672Z"
      },
      {
        "duration": 50,
        "start_time": "2022-12-30T13:03:01.823Z"
      },
      {
        "duration": 6,
        "start_time": "2022-12-30T13:03:01.875Z"
      },
      {
        "duration": 188,
        "start_time": "2022-12-30T13:03:01.883Z"
      },
      {
        "duration": 44,
        "start_time": "2023-01-05T08:37:17.180Z"
      },
      {
        "duration": 1445,
        "start_time": "2023-01-05T08:37:33.663Z"
      },
      {
        "duration": 81,
        "start_time": "2023-01-05T08:37:35.110Z"
      },
      {
        "duration": 20,
        "start_time": "2023-01-05T08:37:35.193Z"
      },
      {
        "duration": 11,
        "start_time": "2023-01-05T08:37:35.215Z"
      },
      {
        "duration": 9,
        "start_time": "2023-01-05T08:37:35.227Z"
      },
      {
        "duration": 8,
        "start_time": "2023-01-05T08:37:35.237Z"
      },
      {
        "duration": 13,
        "start_time": "2023-01-05T08:37:35.246Z"
      },
      {
        "duration": 8,
        "start_time": "2023-01-05T08:37:35.260Z"
      },
      {
        "duration": 4,
        "start_time": "2023-01-05T08:37:35.269Z"
      },
      {
        "duration": 26,
        "start_time": "2023-01-05T08:37:35.275Z"
      },
      {
        "duration": 5,
        "start_time": "2023-01-05T08:37:35.303Z"
      },
      {
        "duration": 15,
        "start_time": "2023-01-05T08:37:35.310Z"
      },
      {
        "duration": 11,
        "start_time": "2023-01-05T08:37:35.327Z"
      },
      {
        "duration": 11,
        "start_time": "2023-01-05T08:37:35.339Z"
      },
      {
        "duration": 18,
        "start_time": "2023-01-05T08:37:35.351Z"
      },
      {
        "duration": 17,
        "start_time": "2023-01-05T08:37:35.370Z"
      },
      {
        "duration": 24,
        "start_time": "2023-01-05T08:37:35.388Z"
      },
      {
        "duration": 30,
        "start_time": "2023-01-05T08:37:35.413Z"
      },
      {
        "duration": 11,
        "start_time": "2023-01-05T08:37:35.445Z"
      },
      {
        "duration": 13,
        "start_time": "2023-01-05T08:37:35.458Z"
      },
      {
        "duration": 465,
        "start_time": "2023-01-05T08:37:35.473Z"
      },
      {
        "duration": 15305,
        "start_time": "2023-01-05T08:37:35.939Z"
      },
      {
        "duration": 52,
        "start_time": "2023-01-05T08:37:51.246Z"
      },
      {
        "duration": 539,
        "start_time": "2023-01-05T08:37:51.300Z"
      },
      {
        "duration": 14586,
        "start_time": "2023-01-05T08:37:51.841Z"
      },
      {
        "duration": 17,
        "start_time": "2023-01-05T08:38:06.429Z"
      },
      {
        "duration": 6,
        "start_time": "2023-01-05T08:38:06.500Z"
      },
      {
        "duration": 106,
        "start_time": "2023-01-05T08:38:06.509Z"
      },
      {
        "duration": 576,
        "start_time": "2023-01-05T08:38:06.616Z"
      },
      {
        "duration": 21095,
        "start_time": "2023-01-05T08:38:07.196Z"
      },
      {
        "duration": 108,
        "start_time": "2023-01-05T08:38:28.293Z"
      },
      {
        "duration": 20606,
        "start_time": "2023-01-05T08:38:28.404Z"
      },
      {
        "duration": 4,
        "start_time": "2023-01-05T08:38:49.012Z"
      },
      {
        "duration": 16,
        "start_time": "2023-01-05T08:38:49.018Z"
      },
      {
        "duration": 17,
        "start_time": "2023-01-05T08:38:49.036Z"
      },
      {
        "duration": 45,
        "start_time": "2023-01-05T08:38:49.055Z"
      },
      {
        "duration": 103,
        "start_time": "2023-01-05T08:38:49.103Z"
      },
      {
        "duration": 27,
        "start_time": "2023-01-05T08:38:49.297Z"
      },
      {
        "duration": 28,
        "start_time": "2023-01-05T08:38:49.326Z"
      },
      {
        "duration": 148,
        "start_time": "2023-01-05T08:38:49.355Z"
      },
      {
        "duration": 26,
        "start_time": "2023-01-05T08:45:06.721Z"
      },
      {
        "duration": 294,
        "start_time": "2023-01-05T08:46:16.263Z"
      },
      {
        "duration": 1279,
        "start_time": "2023-01-05T08:46:32.868Z"
      },
      {
        "duration": 40,
        "start_time": "2023-01-05T08:46:34.149Z"
      },
      {
        "duration": 19,
        "start_time": "2023-01-05T08:46:34.191Z"
      },
      {
        "duration": 11,
        "start_time": "2023-01-05T08:46:34.211Z"
      },
      {
        "duration": 3,
        "start_time": "2023-01-05T08:46:34.223Z"
      },
      {
        "duration": 10,
        "start_time": "2023-01-05T08:46:34.227Z"
      },
      {
        "duration": 19,
        "start_time": "2023-01-05T08:46:34.238Z"
      },
      {
        "duration": 8,
        "start_time": "2023-01-05T08:46:34.258Z"
      },
      {
        "duration": 4,
        "start_time": "2023-01-05T08:46:34.267Z"
      },
      {
        "duration": 5,
        "start_time": "2023-01-05T08:46:34.272Z"
      },
      {
        "duration": 2,
        "start_time": "2023-01-05T08:46:34.297Z"
      },
      {
        "duration": 15,
        "start_time": "2023-01-05T08:46:34.300Z"
      },
      {
        "duration": 10,
        "start_time": "2023-01-05T08:46:34.316Z"
      },
      {
        "duration": 7,
        "start_time": "2023-01-05T08:46:34.329Z"
      },
      {
        "duration": 11,
        "start_time": "2023-01-05T08:46:34.338Z"
      },
      {
        "duration": 5,
        "start_time": "2023-01-05T08:46:34.350Z"
      },
      {
        "duration": 19,
        "start_time": "2023-01-05T08:46:34.356Z"
      },
      {
        "duration": 43,
        "start_time": "2023-01-05T08:46:34.376Z"
      },
      {
        "duration": 11,
        "start_time": "2023-01-05T08:46:34.420Z"
      },
      {
        "duration": 13,
        "start_time": "2023-01-05T08:46:34.432Z"
      },
      {
        "duration": 456,
        "start_time": "2023-01-05T08:46:34.446Z"
      },
      {
        "duration": 14857,
        "start_time": "2023-01-05T08:46:34.903Z"
      },
      {
        "duration": 38,
        "start_time": "2023-01-05T08:46:49.762Z"
      },
      {
        "duration": 625,
        "start_time": "2023-01-05T08:46:49.803Z"
      },
      {
        "duration": 15533,
        "start_time": "2023-01-05T08:46:50.429Z"
      },
      {
        "duration": 35,
        "start_time": "2023-01-05T08:47:05.964Z"
      },
      {
        "duration": 10,
        "start_time": "2023-01-05T08:47:06.001Z"
      },
      {
        "duration": 99,
        "start_time": "2023-01-05T08:47:06.012Z"
      },
      {
        "duration": 647,
        "start_time": "2023-01-05T08:47:06.113Z"
      },
      {
        "duration": 20818,
        "start_time": "2023-01-05T08:47:06.761Z"
      },
      {
        "duration": 37,
        "start_time": "2023-01-05T08:47:27.581Z"
      },
      {
        "duration": 20372,
        "start_time": "2023-01-05T08:47:27.620Z"
      },
      {
        "duration": 4,
        "start_time": "2023-01-05T08:47:47.994Z"
      },
      {
        "duration": 298,
        "start_time": "2023-01-05T08:47:48.000Z"
      },
      {
        "duration": 5,
        "start_time": "2023-01-05T08:47:48.300Z"
      },
      {
        "duration": 8,
        "start_time": "2023-01-05T08:47:48.306Z"
      },
      {
        "duration": 6,
        "start_time": "2023-01-05T08:47:48.315Z"
      },
      {
        "duration": 82,
        "start_time": "2023-01-05T08:47:48.323Z"
      },
      {
        "duration": 23,
        "start_time": "2023-01-05T08:47:48.497Z"
      },
      {
        "duration": 4,
        "start_time": "2023-01-05T08:47:48.521Z"
      },
      {
        "duration": 165,
        "start_time": "2023-01-05T08:47:48.528Z"
      },
      {
        "duration": 309,
        "start_time": "2023-01-05T08:48:03.920Z"
      },
      {
        "duration": 311,
        "start_time": "2023-01-05T08:48:27.954Z"
      },
      {
        "duration": 330,
        "start_time": "2023-01-05T08:49:14.479Z"
      },
      {
        "duration": 291,
        "start_time": "2023-01-05T08:49:26.299Z"
      },
      {
        "duration": 291,
        "start_time": "2023-01-05T08:49:44.328Z"
      },
      {
        "duration": 193,
        "start_time": "2023-01-05T08:50:45.000Z"
      },
      {
        "duration": 927,
        "start_time": "2023-01-05T08:52:29.580Z"
      },
      {
        "duration": 179,
        "start_time": "2023-01-05T08:52:37.643Z"
      },
      {
        "duration": 21579,
        "start_time": "2023-01-05T08:59:02.800Z"
      },
      {
        "duration": 290,
        "start_time": "2023-01-05T08:59:24.381Z"
      },
      {
        "duration": 304,
        "start_time": "2023-01-05T09:00:00.509Z"
      },
      {
        "duration": 294,
        "start_time": "2023-01-05T09:00:07.919Z"
      },
      {
        "duration": 248,
        "start_time": "2023-01-05T09:00:12.820Z"
      },
      {
        "duration": 322,
        "start_time": "2023-01-05T09:01:00.080Z"
      },
      {
        "duration": 247,
        "start_time": "2023-01-05T09:01:10.819Z"
      },
      {
        "duration": 277,
        "start_time": "2023-01-05T09:05:43.301Z"
      },
      {
        "duration": 46,
        "start_time": "2023-01-05T09:07:57.199Z"
      },
      {
        "duration": 59,
        "start_time": "2023-01-05T09:08:14.879Z"
      },
      {
        "duration": 1432,
        "start_time": "2023-01-05T09:09:34.327Z"
      },
      {
        "duration": 42,
        "start_time": "2023-01-05T09:09:35.761Z"
      },
      {
        "duration": 25,
        "start_time": "2023-01-05T09:09:35.805Z"
      },
      {
        "duration": 13,
        "start_time": "2023-01-05T09:09:35.831Z"
      },
      {
        "duration": 3,
        "start_time": "2023-01-05T09:09:35.846Z"
      },
      {
        "duration": 9,
        "start_time": "2023-01-05T09:09:35.850Z"
      },
      {
        "duration": 36,
        "start_time": "2023-01-05T09:09:35.861Z"
      },
      {
        "duration": 12,
        "start_time": "2023-01-05T09:09:35.899Z"
      },
      {
        "duration": 11,
        "start_time": "2023-01-05T09:09:35.913Z"
      },
      {
        "duration": 9,
        "start_time": "2023-01-05T09:09:35.925Z"
      },
      {
        "duration": 6,
        "start_time": "2023-01-05T09:09:35.935Z"
      },
      {
        "duration": 15,
        "start_time": "2023-01-05T09:09:35.943Z"
      },
      {
        "duration": 10,
        "start_time": "2023-01-05T09:09:35.960Z"
      },
      {
        "duration": 26,
        "start_time": "2023-01-05T09:09:35.973Z"
      },
      {
        "duration": 27,
        "start_time": "2023-01-05T09:09:36.002Z"
      },
      {
        "duration": 7,
        "start_time": "2023-01-05T09:09:36.031Z"
      },
      {
        "duration": 24,
        "start_time": "2023-01-05T09:09:36.039Z"
      },
      {
        "duration": 28,
        "start_time": "2023-01-05T09:09:36.065Z"
      },
      {
        "duration": 13,
        "start_time": "2023-01-05T09:09:36.094Z"
      },
      {
        "duration": 23,
        "start_time": "2023-01-05T09:09:36.109Z"
      },
      {
        "duration": 516,
        "start_time": "2023-01-05T09:09:36.133Z"
      },
      {
        "duration": 16519,
        "start_time": "2023-01-05T09:09:36.651Z"
      },
      {
        "duration": 33,
        "start_time": "2023-01-05T09:09:53.172Z"
      },
      {
        "duration": 673,
        "start_time": "2023-01-05T09:09:53.212Z"
      },
      {
        "duration": 16438,
        "start_time": "2023-01-05T09:09:53.886Z"
      },
      {
        "duration": 18,
        "start_time": "2023-01-05T09:10:10.326Z"
      },
      {
        "duration": 6,
        "start_time": "2023-01-05T09:10:10.400Z"
      },
      {
        "duration": 112,
        "start_time": "2023-01-05T09:10:10.408Z"
      },
      {
        "duration": 604,
        "start_time": "2023-01-05T09:10:10.522Z"
      },
      {
        "duration": 22332,
        "start_time": "2023-01-05T09:10:11.128Z"
      },
      {
        "duration": 47,
        "start_time": "2023-01-05T09:10:33.462Z"
      },
      {
        "duration": 22511,
        "start_time": "2023-01-05T09:10:33.511Z"
      },
      {
        "duration": 3,
        "start_time": "2023-01-05T09:10:56.024Z"
      },
      {
        "duration": 290,
        "start_time": "2023-01-05T09:10:56.029Z"
      },
      {
        "duration": 6,
        "start_time": "2023-01-05T09:10:56.321Z"
      },
      {
        "duration": 7,
        "start_time": "2023-01-05T09:10:56.328Z"
      },
      {
        "duration": 62,
        "start_time": "2023-01-05T09:10:56.336Z"
      },
      {
        "duration": 111,
        "start_time": "2023-01-05T09:10:56.400Z"
      },
      {
        "duration": 20,
        "start_time": "2023-01-05T09:10:56.516Z"
      },
      {
        "duration": 4,
        "start_time": "2023-01-05T09:10:56.538Z"
      },
      {
        "duration": 187,
        "start_time": "2023-01-05T09:10:56.545Z"
      },
      {
        "duration": 8,
        "start_time": "2023-01-05T09:13:44.570Z"
      },
      {
        "duration": 1333,
        "start_time": "2023-01-05T09:16:51.639Z"
      },
      {
        "duration": 49,
        "start_time": "2023-01-05T09:16:52.975Z"
      },
      {
        "duration": 20,
        "start_time": "2023-01-05T09:16:53.025Z"
      },
      {
        "duration": 11,
        "start_time": "2023-01-05T09:16:53.047Z"
      },
      {
        "duration": 3,
        "start_time": "2023-01-05T09:16:53.061Z"
      },
      {
        "duration": 8,
        "start_time": "2023-01-05T09:16:53.065Z"
      },
      {
        "duration": 27,
        "start_time": "2023-01-05T09:16:53.074Z"
      },
      {
        "duration": 15,
        "start_time": "2023-01-05T09:16:53.104Z"
      },
      {
        "duration": 6,
        "start_time": "2023-01-05T09:16:53.122Z"
      },
      {
        "duration": 8,
        "start_time": "2023-01-05T09:16:53.130Z"
      },
      {
        "duration": 3,
        "start_time": "2023-01-05T09:16:53.140Z"
      },
      {
        "duration": 14,
        "start_time": "2023-01-05T09:16:53.145Z"
      },
      {
        "duration": 42,
        "start_time": "2023-01-05T09:16:53.161Z"
      },
      {
        "duration": 5,
        "start_time": "2023-01-05T09:16:53.208Z"
      },
      {
        "duration": 20,
        "start_time": "2023-01-05T09:16:53.215Z"
      },
      {
        "duration": 6,
        "start_time": "2023-01-05T09:16:53.237Z"
      },
      {
        "duration": 20,
        "start_time": "2023-01-05T09:16:53.244Z"
      },
      {
        "duration": 50,
        "start_time": "2023-01-05T09:16:53.265Z"
      },
      {
        "duration": 12,
        "start_time": "2023-01-05T09:16:53.320Z"
      },
      {
        "duration": 18,
        "start_time": "2023-01-05T09:16:53.334Z"
      },
      {
        "duration": 477,
        "start_time": "2023-01-05T09:16:53.354Z"
      },
      {
        "duration": 16362,
        "start_time": "2023-01-05T09:16:53.832Z"
      },
      {
        "duration": 32,
        "start_time": "2023-01-05T09:17:10.198Z"
      },
      {
        "duration": 638,
        "start_time": "2023-01-05T09:17:10.232Z"
      },
      {
        "duration": 16148,
        "start_time": "2023-01-05T09:17:10.871Z"
      },
      {
        "duration": 79,
        "start_time": "2023-01-05T09:17:27.021Z"
      },
      {
        "duration": 94,
        "start_time": "2023-01-05T09:17:27.103Z"
      },
      {
        "duration": 20,
        "start_time": "2023-01-05T09:17:27.200Z"
      },
      {
        "duration": 625,
        "start_time": "2023-01-05T09:17:27.221Z"
      },
      {
        "duration": 21717,
        "start_time": "2023-01-05T09:17:27.847Z"
      },
      {
        "duration": 45,
        "start_time": "2023-01-05T09:17:49.566Z"
      },
      {
        "duration": 86,
        "start_time": "2023-01-05T09:17:49.613Z"
      },
      {
        "duration": 24,
        "start_time": "2023-01-05T09:17:49.702Z"
      },
      {
        "duration": 271,
        "start_time": "2023-01-05T09:17:49.798Z"
      },
      {
        "duration": 5,
        "start_time": "2023-01-05T09:17:50.071Z"
      },
      {
        "duration": 21,
        "start_time": "2023-01-05T09:17:50.078Z"
      },
      {
        "duration": 33,
        "start_time": "2023-01-05T09:17:50.100Z"
      },
      {
        "duration": 72,
        "start_time": "2023-01-05T09:17:50.134Z"
      },
      {
        "duration": 106,
        "start_time": "2023-01-05T09:17:50.214Z"
      },
      {
        "duration": 6,
        "start_time": "2023-01-05T09:17:50.322Z"
      },
      {
        "duration": 173,
        "start_time": "2023-01-05T09:17:50.332Z"
      },
      {
        "duration": 322,
        "start_time": "2023-01-05T09:19:21.567Z"
      },
      {
        "duration": 268,
        "start_time": "2023-01-05T09:19:27.601Z"
      }
    ],
    "kernelspec": {
      "display_name": "Python 3 (ipykernel)",
      "language": "python",
      "name": "python3"
    },
    "language_info": {
      "codemirror_mode": {
        "name": "ipython",
        "version": 3
      },
      "file_extension": ".py",
      "mimetype": "text/x-python",
      "name": "python",
      "nbconvert_exporter": "python",
      "pygments_lexer": "ipython3",
      "version": "3.9.5"
    },
    "toc": {
      "base_numbering": 1,
      "nav_menu": {},
      "number_sections": true,
      "sideBar": true,
      "skip_h1_title": true,
      "title_cell": "Содержание",
      "title_sidebar": "Contents",
      "toc_cell": true,
      "toc_position": {
        "height": "calc(100% - 180px)",
        "left": "10px",
        "top": "150px",
        "width": "165px"
      },
      "toc_section_display": true,
      "toc_window_display": true
    },
    "colab": {
      "provenance": []
    }
  },
  "nbformat": 4,
  "nbformat_minor": 0
}
